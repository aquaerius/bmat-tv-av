{
 "cells": [
  {
   "cell_type": "code",
   "execution_count": 2,
   "metadata": {},
   "outputs": [
    {
     "name": "stdout",
     "output_type": "stream",
     "text": [
      "/usr/local/opt/mysql-client/bin/mysql\n",
      "/Users/lapdog/anaconda3/envs/bmat/bin/python\n",
      "BMAT APIS - Python 2.7.ipynb requirements-dev.txt\n",
      "LICENSE                      \u001b[34msrc\u001b[m\u001b[m\n",
      "README.md                    vericast_reports.py\n",
      "\u001b[34mlib\u001b[m\u001b[m\n"
     ]
    }
   ],
   "source": [
    "# ! export CPPFLAGS=\"-I/usr/local/opt/mysql-client/include\"\n",
    "# ! export LDFLAGS=\"-L/usr/local/opt/mysql-client/lib\"\n",
    "# ! export PATH=\"/usr/local/opt/mysql-client/bin:$PATH\"\n",
    "! which mysql && which python\n",
    "# ! brew install openssl\n",
    "from os import chdir\n",
    "\n",
    "# ! sudo cp libssl.1.0.0.dylib libcrypto.1.0.0.dylib /usr/lib/\n",
    "! ls .\n"
   ]
  },
  {
   "cell_type": "code",
   "execution_count": 3,
   "metadata": {},
   "outputs": [
    {
     "name": "stdout",
     "output_type": "stream",
     "text": [
      "No changes detected\n",
      "\u001b[36;1mOperations to perform:\u001b[0m\n",
      "\u001b[1m  Apply all migrations: \u001b[0madmin, auth, contenttypes, sessions, tv\n",
      "\u001b[36;1mRunning migrations:\u001b[0m\n",
      "  No migrations to apply.\n"
     ]
    }
   ],
   "source": [
    "chdir('src/')\n",
    "\n",
    "! python ./manage.py makemigrations && ./manage.py migrate"
   ]
  },
  {
   "cell_type": "code",
   "execution_count": 4,
   "metadata": {},
   "outputs": [
    {
     "ename": "AppRegistryNotReady",
     "evalue": "Apps aren't loaded yet.",
     "output_type": "error",
     "traceback": [
      "\u001b[0;31m---------------------------------------------------------------------------\u001b[0m",
      "\u001b[0;31mAppRegistryNotReady\u001b[0m                       Traceback (most recent call last)",
      "\u001b[0;32m<ipython-input-4-d1f820fc25f4>\u001b[0m in \u001b[0;36m<module>\u001b[0;34m()\u001b[0m\n\u001b[0;32m----> 1\u001b[0;31m \u001b[0;32mfrom\u001b[0m \u001b[0mtv\u001b[0m \u001b[0;32mimport\u001b[0m \u001b[0mmodels\u001b[0m\u001b[0;34m\u001b[0m\u001b[0m\n\u001b[0m",
      "\u001b[0;32m/Users/lapdog/GitHub/bmatapis/bmat-tv-av/src/tv/models.py\u001b[0m in \u001b[0;36m<module>\u001b[0;34m()\u001b[0m\n\u001b[1;32m    261\u001b[0m \u001b[0;34m\u001b[0m\u001b[0m\n\u001b[1;32m    262\u001b[0m \u001b[0;34m@\u001b[0m\u001b[0mpython_2_unicode_compatible\u001b[0m\u001b[0;34m\u001b[0m\u001b[0m\n\u001b[0;32m--> 263\u001b[0;31m \u001b[0;32mclass\u001b[0m \u001b[0mChannel\u001b[0m\u001b[0;34m(\u001b[0m\u001b[0mmodels\u001b[0m\u001b[0;34m.\u001b[0m\u001b[0mModel\u001b[0m\u001b[0;34m)\u001b[0m\u001b[0;34m:\u001b[0m\u001b[0;34m\u001b[0m\u001b[0m\n\u001b[0m\u001b[1;32m    264\u001b[0m \u001b[0;34m\u001b[0m\u001b[0m\n\u001b[1;32m    265\u001b[0m     \u001b[0;31m# Channel_id\u001b[0m\u001b[0;34m\u001b[0m\u001b[0;34m\u001b[0m\u001b[0m\n",
      "\u001b[0;32m/Users/lapdog/anaconda3/envs/bmat/lib/python2.7/site-packages/django/db/models/base.pyc\u001b[0m in \u001b[0;36m__new__\u001b[0;34m(cls, name, bases, attrs)\u001b[0m\n\u001b[1;32m    108\u001b[0m \u001b[0;34m\u001b[0m\u001b[0m\n\u001b[1;32m    109\u001b[0m         \u001b[0;31m# Look for an application configuration to attach the model to.\u001b[0m\u001b[0;34m\u001b[0m\u001b[0;34m\u001b[0m\u001b[0m\n\u001b[0;32m--> 110\u001b[0;31m         \u001b[0mapp_config\u001b[0m \u001b[0;34m=\u001b[0m \u001b[0mapps\u001b[0m\u001b[0;34m.\u001b[0m\u001b[0mget_containing_app_config\u001b[0m\u001b[0;34m(\u001b[0m\u001b[0mmodule\u001b[0m\u001b[0;34m)\u001b[0m\u001b[0;34m\u001b[0m\u001b[0m\n\u001b[0m\u001b[1;32m    111\u001b[0m \u001b[0;34m\u001b[0m\u001b[0m\n\u001b[1;32m    112\u001b[0m         \u001b[0;32mif\u001b[0m \u001b[0mgetattr\u001b[0m\u001b[0;34m(\u001b[0m\u001b[0mmeta\u001b[0m\u001b[0;34m,\u001b[0m \u001b[0;34m'app_label'\u001b[0m\u001b[0;34m,\u001b[0m \u001b[0mNone\u001b[0m\u001b[0;34m)\u001b[0m \u001b[0;32mis\u001b[0m \u001b[0mNone\u001b[0m\u001b[0;34m:\u001b[0m\u001b[0;34m\u001b[0m\u001b[0m\n",
      "\u001b[0;32m/Users/lapdog/anaconda3/envs/bmat/lib/python2.7/site-packages/django/apps/registry.pyc\u001b[0m in \u001b[0;36mget_containing_app_config\u001b[0;34m(self, object_name)\u001b[0m\n\u001b[1;32m    245\u001b[0m         \u001b[0mReturns\u001b[0m \u001b[0mNone\u001b[0m \u001b[0;32mif\u001b[0m \u001b[0mthe\u001b[0m \u001b[0mobject\u001b[0m \u001b[0misn\u001b[0m\u001b[0;31m'\u001b[0m\u001b[0mt\u001b[0m \u001b[0;32min\u001b[0m \u001b[0many\u001b[0m \u001b[0mregistered\u001b[0m \u001b[0mapp\u001b[0m \u001b[0mconfig\u001b[0m\u001b[0;34m.\u001b[0m\u001b[0;34m\u001b[0m\u001b[0m\n\u001b[1;32m    246\u001b[0m         \"\"\"\n\u001b[0;32m--> 247\u001b[0;31m         \u001b[0mself\u001b[0m\u001b[0;34m.\u001b[0m\u001b[0mcheck_apps_ready\u001b[0m\u001b[0;34m(\u001b[0m\u001b[0;34m)\u001b[0m\u001b[0;34m\u001b[0m\u001b[0m\n\u001b[0m\u001b[1;32m    248\u001b[0m         \u001b[0mcandidates\u001b[0m \u001b[0;34m=\u001b[0m \u001b[0;34m[\u001b[0m\u001b[0;34m]\u001b[0m\u001b[0;34m\u001b[0m\u001b[0m\n\u001b[1;32m    249\u001b[0m         \u001b[0;32mfor\u001b[0m \u001b[0mapp_config\u001b[0m \u001b[0;32min\u001b[0m \u001b[0mself\u001b[0m\u001b[0;34m.\u001b[0m\u001b[0mapp_configs\u001b[0m\u001b[0;34m.\u001b[0m\u001b[0mvalues\u001b[0m\u001b[0;34m(\u001b[0m\u001b[0;34m)\u001b[0m\u001b[0;34m:\u001b[0m\u001b[0;34m\u001b[0m\u001b[0m\n",
      "\u001b[0;32m/Users/lapdog/anaconda3/envs/bmat/lib/python2.7/site-packages/django/apps/registry.pyc\u001b[0m in \u001b[0;36mcheck_apps_ready\u001b[0;34m(self)\u001b[0m\n\u001b[1;32m    123\u001b[0m         \"\"\"\n\u001b[1;32m    124\u001b[0m         \u001b[0;32mif\u001b[0m \u001b[0;32mnot\u001b[0m \u001b[0mself\u001b[0m\u001b[0;34m.\u001b[0m\u001b[0mapps_ready\u001b[0m\u001b[0;34m:\u001b[0m\u001b[0;34m\u001b[0m\u001b[0m\n\u001b[0;32m--> 125\u001b[0;31m             \u001b[0;32mraise\u001b[0m \u001b[0mAppRegistryNotReady\u001b[0m\u001b[0;34m(\u001b[0m\u001b[0;34m\"Apps aren't loaded yet.\"\u001b[0m\u001b[0;34m)\u001b[0m\u001b[0;34m\u001b[0m\u001b[0m\n\u001b[0m\u001b[1;32m    126\u001b[0m \u001b[0;34m\u001b[0m\u001b[0m\n\u001b[1;32m    127\u001b[0m     \u001b[0;32mdef\u001b[0m \u001b[0mcheck_models_ready\u001b[0m\u001b[0;34m(\u001b[0m\u001b[0mself\u001b[0m\u001b[0;34m)\u001b[0m\u001b[0;34m:\u001b[0m\u001b[0;34m\u001b[0m\u001b[0m\n",
      "\u001b[0;31mAppRegistryNotReady\u001b[0m: Apps aren't loaded yet."
     ]
    }
   ],
   "source": [
    "from tv import models"
   ]
  },
  {
   "cell_type": "markdown",
   "metadata": {},
   "source": [
    "\n",
    "<hr>\n",
    "\n",
    "# Channel reports tool\n",
    "## Filenames match: \"matches-*.json\"\n",
    "### Example:\n",
    "\n",
    "```python\n",
    "{\n",
    "\"title\": \"Something Is Coming\",\n",
    "\"length\": 3,\n",
    "\"album\": \"Crime Drama\",\n",
    "\"artist\": \"Robert J Walsh\",\n",
    "\"start_time_utc\": \"2018-02-16T06:34:01.000000\"\n",
    "}\n",
    "{\n",
    "\"title\": \"Fair Skies\",\n",
    "\"length\": 14,\n",
    "\"album\": \"Anthemic Rock\",\n",
    "\"artist\": \"KAVIN HOO\",\n",
    "\"start_time_utc\": \"2018-02-16T00:55:06.000000\"\n",
    "}\n",
    "```\n",
    "\n",
    "#### Each line in the file represents a `Song` model in the database:\n",
    "\n",
    "- `Song(channel(file_name),length,start_datetime_utc)`\n",
    "<hr>\n",
    "\n",
    "# Our operation engineers need you to develop a CLI tool that:\n",
    "## By passing the folowing parameters in:\n",
    "```python\n",
    "parameters = {\n",
    "    'startDate/startTime':'yyyymmdd_hh:mm:ss', \n",
    "    'endDate/endTime':'yyyymmdd_hh:mm:ss',\n",
    "    'channelName':'Channel_name'\n",
    "}\n",
    "```\n",
    "\n",
    "```\n",
    "# channelName_startDate_endDatereport \n",
    "in XLSX format \n",
    "containing all the programs aired \n",
    "on that channel \n",
    "during that time interval \n",
    "along with \n",
    "the songs played during the program span. The\n",
    "resulting report may look like\n",
    "\n",
    "| Program Start | Program Title | Song Title | Song Artist | Song Start | Song Duration |\n",
    "|---|---|---|---|---|---|\n",
    "| 20180101 | 12:20 | Au nom de la vérité | The Fun Experience | Jérôme Faby | Pierre Dubost |"
   ]
  },
  {
   "cell_type": "code",
   "execution_count": null,
   "metadata": {},
   "outputs": [],
   "source": [
    "\n",
    "class Song(models.Model):\n",
    "    \"\"\"\n",
    "    Represents a Song object with the following attributes:\n",
    "    @param:{channel}  Object.\n",
    "    @param:{length}   Integer.\n",
    "    @param:{album}    Object.\n",
    "    @param:{artist}   Object.\n",
    "    @param:{datetime} Object. Timezone UTC.\n",
    "    \"\"\"\n",
    "    channel = models.ForeignKey('Channel', on_delete.models.CASCADE)\n",
    "    album = models.ForeignKey('Album', on_delete.SET_BLANK, blank=True)\n",
    "    artist = models.ForeignKey('Artist', on_delete.CASCADE)\n",
    "    date_time_utc = models.DateTimeField()\n",
    "    \n",
    "    \n",
    "```"
   ]
  },
  {
   "cell_type": "code",
   "execution_count": null,
   "metadata": {},
   "outputs": [],
   "source": [
    "import sys\n",
    "channel = sys.argv[1].split('-')[1]\n",
    "channel"
   ]
  },
  {
   "cell_type": "code",
   "execution_count": null,
   "metadata": {},
   "outputs": [],
   "source": [
    "import pandas as pd\n",
    "import json\n",
    "\n",
    "# from args get channel \n",
    "file_name = 'matches-la_sexta.json'\n",
    "with open() as f:\n",
    "    for line in f.readlines():\n",
    "        data = json.loads(line)\n",
    "        print(type(data))\n",
    "        start_time_utc = data.get(\"start_time_utc\") # : \"2018-02-15T20:31:12.000000\", \n",
    "        title = data.get(\"title\") # : \"Fair Ground\", \n",
    "        length = data.get(\"length\") # : 6, \n",
    "        artist = data.get(\"artist\") # : \"Bob Bradley, Matt Sanchez, Steve Dymond\", \n",
    "        album = data.get(\"album\") # : \"Slightly Quirky\"}\n",
    "        print(start_time_utc)\n",
    "        print(title)\n",
    "        print(length)\n",
    "        print(artist)\n",
    "        print(album)\n",
    "        \n",
    "        "
   ]
  },
  {
   "cell_type": "code",
   "execution_count": null,
   "metadata": {},
   "outputs": [],
   "source": [
    "with open(channel+dateString+'.xslx') as report:\n",
    "    with open('matches-la_sexta.json') as f:\n",
    "        for line in f.readlines():\n",
    "            date_filter = \n",
    "            if line_args(date_filter):\n",
    "                report = line+','\n",
    "# {\"start_time_utc\": \"2018-01-26T23:33:03.000000\", \"title\": \"Dangerous Search\", \"length\": 8, \"artist\": \"Alec Williams , Andy Asfendis\", \"album\": \"DramaLand\"}\n",
    "# df = pd.DataFrame.from_dict(data='matches-la_sexta.json')"
   ]
  },
  {
   "cell_type": "code",
   "execution_count": null,
   "metadata": {},
   "outputs": [],
   "source": [
    "json.JSONDecoder()"
   ]
  },
  {
   "cell_type": "code",
   "execution_count": null,
   "metadata": {},
   "outputs": [],
   "source": []
  }
 ],
 "metadata": {
  "kernelspec": {
   "display_name": "Python 2",
   "language": "python",
   "name": "python2"
  },
  "language_info": {
   "codemirror_mode": {
    "name": "ipython",
    "version": 2
   },
   "file_extension": ".py",
   "mimetype": "text/x-python",
   "name": "python",
   "nbconvert_exporter": "python",
   "pygments_lexer": "ipython2",
   "version": "2.7.17"
  }
 },
 "nbformat": 4,
 "nbformat_minor": 2
}
