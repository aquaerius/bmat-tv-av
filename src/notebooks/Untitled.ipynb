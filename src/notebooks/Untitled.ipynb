{
 "cells": [
  {
   "cell_type": "code",
   "execution_count": 122,
   "metadata": {},
   "outputs": [],
   "source": [
    "import os\n",
    "import sys\n",
    "\n",
    "import pandas as pd\n",
    "import numpy as np\n",
    "import datetime\n",
    "\n",
    "from django.db import IntegrityError\n",
    "\n",
    "from tv import models as tv_models\n",
    "\n",
    "\n",
    "# Change DataFrame dtypes to match Database models\n",
    "def model_for_db(csv):\n",
    "    \"\"\"\n",
    "    @parameters:\n",
    "    - csv: Electronic Guide filename in comma separated values (.csv)\n",
    "\n",
    "    @returns:\n",
    "    - Dataframe with items formatted for bmat tv/av programs\n",
    "    \"\"\"\n",
    "\n",
    "    # Load csv into Dataframe\n",
    "    df = pd.read_csv(csv)\n",
    "\n",
    "    # Fill n/a with readable string \"n/a\"\n",
    "    df = df.fillna('n/a')\n",
    "    df['program_year'] = df['program_year'].astype(str)\n",
    "    df['start_time'] = (df['start_date'].astype(str) + ' ' + df['start_time']).map(\n",
    "        lambda x: datetime.datetime.strptime(x, '%Y%m%d %H:%M')\n",
    "    )\n",
    "    df['duration_in_seconds'] = pd.to_timedelta(df['duration_in_seconds'], unit='seconds')\n",
    "    df['end_time'] = df['start_time'] + df['duration_in_seconds']\n",
    "    df = df.drop(['start_date', 'duration_in_seconds'], axis=1)\n",
    "    return df\n",
    "\n",
    "\n",
    "# Get or create Program with channel obj and row data\n",
    "def create_program(row, channel):\n",
    "    if row.program_year != 'n/a':\n",
    "        year = row.program_year[0:4]\n",
    "    else:\n",
    "        year = row.program_year\n",
    "    program, created =tv_models.Program.objects.get_or_create(uid=row.program_id, channel=channel,\n",
    "                                                            year=year,\n",
    "                                                            local_title=row.program_local_title,\n",
    "                                                            original_title=row.program_original_title\n",
    "                                                            )\n",
    "    if created:\n",
    "        program.save()\n",
    "        print(\"Program {} with id {} added to DB.\".format(program.local_title,\n",
    "                                                          program.uid,\n",
    "                                                          ))\n",
    "    return program\n",
    "\n",
    "\n",
    "def create_channel(row):\n",
    "    channel, created = tv_models.Channel.objects.get_or_create(uid=row.channel_id,\n",
    "                                                     name=row.channel_name,\n",
    "                                                     country_code=row.channel_country\n",
    "                                                     )\n",
    "    if created:\n",
    "        channel.save()\n",
    "        print('Channel {} from {} with id {} added to DB.'.format(channel.name,\n",
    "                                                                  channel.country_code,\n",
    "                                                                  channel.id\n",
    "                                                                  ))\n",
    "    return channel\n",
    "\n",
    "\n",
    "def create_showtime(row, program):\n",
    "    showtime, created = tv_models.Showtime.objects.get_or_create(program=program,\n",
    "                                                              start_time=row.start_time,\n",
    "                                                              end_time=row.end_time\n",
    "                                                              )\n",
    "    if created:\n",
    "        showtime.save()\n",
    "        print('Showtime starting on {} added to '.format(row.start_time)+program.local_title)\n",
    "    return showtime\n",
    "\n",
    "\n",
    "# Create Showtimes from DataFrame\n",
    "def add_showtimes_from_dataframe(df, filename):\n",
    "    for index, row in df.iterrows():\n",
    "        channel = create_channel(row)\n",
    "        program = create_program(row, channel)\n",
    "        create_showtime(row, program)\n",
    "\n",
    "    print(\"Finished adding programs from {}\".format(filename))\n",
    "\n",
    "\n",
    "def main():\n",
    "    os.environ[\"DJANGO_ALLOW_ASYNC_UNSAFE\"] = \"true\"\n",
    "    filename = None\n",
    "    while filename is None:\n",
    "        filename = input('Please enter the full path to the Electronic Program Guide: ')\n",
    "        if os.path.isfile(filename):\n",
    "            os.chdir(filename[0:-len(filename.split('/')[-1])])\n",
    "            print (\"Uploading programs to database...\")\n",
    "            df = model_for_db(filename.split('/')[-1])\n",
    "            add_showtimes_from_dataframe(df, filename)\n",
    "            print (\"Finished uploading programs from {} to database.\".format(filename))\n",
    "            return\n",
    "        else:\n",
    "            filename = None\n",
    "            print (\"File does not exist. Check the path is correct and try again.\")\n",
    "\n",
    "            \n",
    "def whatisthis(s):\n",
    "    if isinstance(s, str):\n",
    "        print \"ordinary string\"\n",
    "    elif isinstance(s, unicode):\n",
    "        print \"unicode string\"\n",
    "    else:\n",
    "        print \"not a string\""
   ]
  },
  {
   "cell_type": "code",
   "execution_count": 123,
   "metadata": {},
   "outputs": [
    {
     "name": "stdout",
     "output_type": "stream",
     "text": [
      "Programs API.ipynb  __init__.py         upload_from_csv.py  vericast_reports.py\r\n",
      "Untitled.ipynb      __init__.pyc        upload_from_csv.pyc\r\n"
     ]
    },
    {
     "data": {
      "text/plain": [
       "'../../data/epg.csv'"
      ]
     },
     "execution_count": 123,
     "metadata": {},
     "output_type": "execute_result"
    }
   ],
   "source": [
    "! ls .\n",
    "'../../data/epg.csv'"
   ]
  },
  {
   "cell_type": "code",
   "execution_count": 124,
   "metadata": {},
   "outputs": [],
   "source": [
    "df = model_for_db('../../data/epg.csv')"
   ]
  },
  {
   "cell_type": "code",
   "execution_count": 125,
   "metadata": {},
   "outputs": [
    {
     "name": "stdout",
     "output_type": "stream",
     "text": [
      "Finished adding programs from epg.csv\n"
     ]
    }
   ],
   "source": [
    "add_showtimes_from_dataframe(df, 'epg.csv')"
   ]
  },
  {
   "cell_type": "code",
   "execution_count": 106,
   "metadata": {},
   "outputs": [
    {
     "data": {
      "text/plain": [
       "False"
      ]
     },
     "execution_count": 106,
     "metadata": {},
     "output_type": "execute_result"
    }
   ],
   "source": []
  },
  {
   "cell_type": "code",
   "execution_count": null,
   "metadata": {},
   "outputs": [],
   "source": []
  }
 ],
 "metadata": {
  "kernelspec": {
   "display_name": "Django Shell-Plus",
   "language": "python",
   "name": "django_extensions"
  },
  "language_info": {
   "codemirror_mode": {
    "name": "ipython",
    "version": 2
   },
   "file_extension": ".py",
   "mimetype": "text/x-python",
   "name": "python",
   "nbconvert_exporter": "python",
   "pygments_lexer": "ipython2",
   "version": "2.7.17"
  }
 },
 "nbformat": 4,
 "nbformat_minor": 2
}
