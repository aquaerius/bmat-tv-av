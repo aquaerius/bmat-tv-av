{
 "cells": [
  {
   "cell_type": "code",
   "execution_count": null,
   "metadata": {},
   "outputs": [],
   "source": [
    "import os\n",
    "import sys\n",
    "\n",
    "import pandas as pd\n",
    "import numpy as np\n",
    "import datetime\n",
    "\n",
    "from django.db import IntegrityError\n",
    "\n",
    "from tv import models as tv_models\n",
    "\n",
    "\n",
    "# Change DataFrame dtypes to match Database models\n",
    "def model_for_db(csv):\n",
    "    \"\"\"\n",
    "    @parameters:\n",
    "    - csv: Electronic Guide filename in comma separated values (.csv)\n",
    "\n",
    "    @returns:\n",
    "    - Dataframe with items formatted for bmat tv/av programs\n",
    "    \"\"\"\n",
    "\n",
    "    # Load csv into Dataframe\n",
    "    df = pd.read_csv(csv)\n",
    "\n",
    "    # Fill n/a with readable string \"n/a\"\n",
    "    df = df.fillna('n/a')\n",
    "    df['program_year'] = df['program_year'].astype(str)\n",
    "    df['start_time'] = (df['start_date'].astype(str) + ' ' + df['start_time']).map(\n",
    "        lambda x: datetime.datetime.strptime(x, '%Y%m%d %H:%M')\n",
    "    )\n",
    "    df['duration_in_seconds'] = pd.to_timedelta(df['duration_in_seconds'], unit='seconds')\n",
    "    df['end_time'] = df['start_time'] + df['duration_in_seconds']\n",
    "    df = df.drop(['start_date', 'duration_in_seconds'], axis=1)\n",
    "    return df\n",
    "\n",
    "\n",
    "# Get or create Program with channel obj and row data\n",
    "def create_program(row, channel):\n",
    "    if row.program_year != 'n/a':\n",
    "        year = row.program_year[0:4]\n",
    "    else:\n",
    "        year = row.program_year\n",
    "    program, created =tv_models.Program.objects.get_or_create(uid=row.program_id, channel=channel,\n",
    "                                                            year=year,\n",
    "                                                            local_title=row.program_local_title,\n",
    "                                                            original_title=row.program_original_title\n",
    "                                                            )\n",
    "    if created:\n",
    "        program.save()\n",
    "        print(\"Program {} with id {} added to DB.\".format(program.local_title,\n",
    "                                                          program.uid,\n",
    "                                                          ))\n",
    "    return program\n",
    "\n",
    "\n",
    "def create_channel(row):\n",
    "    channel, created = tv_models.Channel.objects.get_or_create(uid=row.channel_id,\n",
    "                                                     name=row.channel_name,\n",
    "                                                     country_code=row.channel_country\n",
    "                                                     )\n",
    "    if created:\n",
    "        channel.save()\n",
    "        print('Channel {} from {} with id {} added to DB.'.format(channel.name,\n",
    "                                                                  channel.country_code,\n",
    "                                                                  channel.id\n",
    "                                                                  ))\n",
    "    return channel\n",
    "\n",
    "\n",
    "def create_showtime(row, program):\n",
    "    showtime, created = tv_models.Showtime.objects.get_or_create(program=program,\n",
    "                                                              start_time=row.start_time,\n",
    "                                                              end_time=row.end_time\n",
    "                                                              )\n",
    "    if created:\n",
    "        showtime.save()\n",
    "        print('Showtime starting on {} added to '.format(row.start_time)+program.local_title)\n",
    "    return showtime\n",
    "\n",
    "\n",
    "# Create Showtimes from DataFrame\n",
    "def add_showtimes_from_dataframe(df, filename):\n",
    "    for index, row in df.iterrows():\n",
    "        channel = create_channel(row)\n",
    "        program = create_program(row, channel)\n",
    "        create_showtime(row, program)\n",
    "\n",
    "    print(\"Finished adding programs from {}\".format(filename))\n",
    "\n",
    "\n",
    "def main():\n",
    "    os.environ[\"DJANGO_ALLOW_ASYNC_UNSAFE\"] = \"true\"\n",
    "    filename = None\n",
    "    while filename is None:\n",
    "        filename = input('Please enter the full path to the Electronic Program Guide: ')\n",
    "        if os.path.isfile(filename):\n",
    "            os.chdir(filename[0:-len(filename.split('/')[-1])])\n",
    "            print (\"Uploading programs to database...\")\n",
    "            df = model_for_db(filename.split('/')[-1])\n",
    "            add_showtimes_from_dataframe(df, filename)\n",
    "            print (\"Finished uploading programs from {} to database.\".format(filename))\n",
    "            return\n",
    "        else:\n",
    "            filename = None\n",
    "            print (\"File does not exist. Check the path is correct and try again.\")\n"
   ]
  },
  {
   "cell_type": "code",
   "execution_count": null,
   "metadata": {},
   "outputs": [],
   "source": [
    "! ls .\n",
    "'../../data/epg.csv'"
   ]
  },
  {
   "cell_type": "code",
   "execution_count": null,
   "metadata": {},
   "outputs": [],
   "source": [
    "df = model_for_db('../../data/epg.csv')"
   ]
  },
  {
   "cell_type": "code",
   "execution_count": null,
   "metadata": {},
   "outputs": [],
   "source": [
    "add_showtimes_from_dataframe(df, 'epg.csv')"
   ]
  },
  {
   "cell_type": "code",
   "execution_count": null,
   "metadata": {},
   "outputs": [],
   "source": [
    "df"
   ]
  },
  {
   "cell_type": "markdown",
   "metadata": {},
   "source": [
    "# Vericast tool"
   ]
  },
  {
   "cell_type": "code",
   "execution_count": 1,
   "metadata": {},
   "outputs": [],
   "source": [
    "import calendar\n",
    "import datetime\n",
    "import dateutil.parser\n",
    "\n",
    "def utc_to_local(utc_dt):\n",
    "    # get integer timestamp to avoid precision lost\n",
    "    timestamp = calendar.timegm(utc_dt.timetuple())\n",
    "    local_dt = datetime.datetime.fromtimestamp(timestamp)\n",
    "    # assert utc_dt.resolution >= datetime.timedelta(microseconds=1)\n",
    "    return local_dt.replace(microsecond=utc_dt.microsecond)"
   ]
  },
  {
   "cell_type": "code",
   "execution_count": 2,
   "metadata": {},
   "outputs": [],
   "source": [
    "import os\n",
    "import json\n",
    "import pandas as pd\n",
    "\n",
    "\n",
    "            \n",
    "\n",
    "# Change directory to filesdir\n",
    "os.chdir('../../data/')\n",
    "class VericastMatchReporter:\n",
    "    \"\"\"\n",
    "    Handles ISO 8601 format datetimes.\n",
    "    @params: filename, start_date, start_time, end_date, end_time, time_zone\n",
    "    \"\"\"\n",
    "    \n",
    "    df = pd.DataFrame(columns=['title','length','album','artist','start_time_utc'])\n",
    "    matches_between_dates = None\n",
    "    start_time = None\n",
    "    end_time = None\n",
    "    report_name = 'vericast-api-matches'\n",
    "    report_file_extension = 'xslx'\n",
    "    \n",
    "    def __init__(self, **kwargs):\n",
    "        \"\"\"Initilize report, make a pandas dataframe with the matches.\"\"\"\n",
    "        self.filename = kwargs['filename']\n",
    "        self.channel = self.filename.split('/')[-1].split('-')[-1].split('.')[0]\n",
    "        self.report_name += '-'+self.channel \n",
    "        try:\n",
    "            self.start_time = dateutil.parser.parse(kwargs['start_date']+'T'+kwargs['start_time']+kwargs['tz_offset'])\n",
    "            self.end_time = dateutil.parser.parse(kwargs['end_date']+'T'+kwargs['end_time']+kwargs['tz_offset'])\n",
    "        except:\n",
    "            raise\n",
    "        with open(self.filename) as f:\n",
    "            for line in f.readlines():\n",
    "                # Append match into df\n",
    "                match = json.loads(line)\n",
    "                self.df = self.df.append(match, ignore_index=True)\n",
    "                \n",
    "        # Cast dates as aware datetime \n",
    "        self.df['start_time_utc'] = pd.to_datetime(self.df['start_time_utc'], yearfirst=True, utc=True)\n",
    "        print('Reporter initialized.')\n",
    "        \n",
    "    def create_report_between_times_xlsx(self):\n",
    "        # Localize UTC for datetime filtering\n",
    "        self.df['localized_time'] = self.df['start_time_utc'].map(lambda x: utc_to_local(x))\n",
    "        self.df = self.df.set_index('localized_time')\n",
    "        \n",
    "        # matches = self.df.loc[(self.df['start_time_utc'] > self.start_time) & (self.df['start_time_utc'] < self.end_time)]\n",
    "        matches = self.df.between_time(self.start_time, self.end_time)\n",
    "        return matches\n",
    "        \n",
    "        return 'File {} has been created'.format()\n",
    "    \n",
    "    def __str__(self):\n",
    "        return 'Vericast API matches from '+self.channel.replace('_', ' ').upper()+' between times '+str(self.start_time)+' and '+str(self.end_time)+' UTC.'\n",
    "\n",
    "    def __repr__(self):\n",
    "        return \"<{}: Channel {}>\".format(self.__class__.__name__, self.channel)"
   ]
  },
  {
   "cell_type": "code",
   "execution_count": 6,
   "metadata": {},
   "outputs": [
    {
     "name": "stdout",
     "output_type": "stream",
     "text": [
      "Reporter initialized.\n"
     ]
    }
   ],
   "source": [
    "report = VericastMatchReporter(\n",
    "    filename='matches-la_sexta.json', \n",
    "    start_date='2018-01-29', \n",
    "    start_time='12:00:00', \n",
    "    end_date='2018-02-01',\n",
    "    end_time='00:00:00',\n",
    "    tz_offset='+0500'\n",
    ")"
   ]
  },
  {
   "cell_type": "code",
   "execution_count": 61,
   "metadata": {},
   "outputs": [
    {
     "ename": "ValueError",
     "evalue": "'z' is a bad directive in format '%H:%M%z'",
     "output_type": "error",
     "traceback": [
      "\u001b[0;31m---------------------------------------------------------------------------\u001b[0m",
      "\u001b[0;31mValueError\u001b[0m                                Traceback (most recent call last)",
      "\u001b[0;32m<ipython-input-61-c857001993c7>\u001b[0m in \u001b[0;36m<module>\u001b[0;34m()\u001b[0m\n\u001b[1;32m      1\u001b[0m \u001b[0;32mimport\u001b[0m \u001b[0mtime\u001b[0m\u001b[0;34m\u001b[0m\u001b[0m\n\u001b[0;32m----> 2\u001b[0;31m \u001b[0mt\u001b[0m \u001b[0;34m=\u001b[0m \u001b[0mtime\u001b[0m\u001b[0;34m.\u001b[0m\u001b[0mstrptime\u001b[0m\u001b[0;34m(\u001b[0m\u001b[0;34m'12:00+0500'\u001b[0m\u001b[0;34m,\u001b[0m\u001b[0;34m'%H:%M%z'\u001b[0m\u001b[0;34m)\u001b[0m\u001b[0;34m\u001b[0m\u001b[0m\n\u001b[0m",
      "\u001b[0;32m/Users/lapdog/anaconda3/envs/bmat/lib/python2.7/_strptime.pyc\u001b[0m in \u001b[0;36m_strptime_time\u001b[0;34m(data_string, format)\u001b[0m\n\u001b[1;32m    476\u001b[0m \u001b[0;34m\u001b[0m\u001b[0m\n\u001b[1;32m    477\u001b[0m \u001b[0;32mdef\u001b[0m \u001b[0m_strptime_time\u001b[0m\u001b[0;34m(\u001b[0m\u001b[0mdata_string\u001b[0m\u001b[0;34m,\u001b[0m \u001b[0mformat\u001b[0m\u001b[0;34m=\u001b[0m\u001b[0;34m\"%a %b %d %H:%M:%S %Y\"\u001b[0m\u001b[0;34m)\u001b[0m\u001b[0;34m:\u001b[0m\u001b[0;34m\u001b[0m\u001b[0m\n\u001b[0;32m--> 478\u001b[0;31m     \u001b[0;32mreturn\u001b[0m \u001b[0m_strptime\u001b[0m\u001b[0;34m(\u001b[0m\u001b[0mdata_string\u001b[0m\u001b[0;34m,\u001b[0m \u001b[0mformat\u001b[0m\u001b[0;34m)\u001b[0m\u001b[0;34m[\u001b[0m\u001b[0;36m0\u001b[0m\u001b[0;34m]\u001b[0m\u001b[0;34m\u001b[0m\u001b[0m\n\u001b[0m",
      "\u001b[0;32m/Users/lapdog/anaconda3/envs/bmat/lib/python2.7/_strptime.pyc\u001b[0m in \u001b[0;36m_strptime\u001b[0;34m(data_string, format)\u001b[0m\n\u001b[1;32m    322\u001b[0m                 \u001b[0;32mdel\u001b[0m \u001b[0merr\u001b[0m\u001b[0;34m\u001b[0m\u001b[0m\n\u001b[1;32m    323\u001b[0m                 raise ValueError(\"'%s' is a bad directive in format '%s'\" %\n\u001b[0;32m--> 324\u001b[0;31m                                     (bad_directive, format))\n\u001b[0m\u001b[1;32m    325\u001b[0m             \u001b[0;31m# IndexError only occurs when the format string is \"%\"\u001b[0m\u001b[0;34m\u001b[0m\u001b[0;34m\u001b[0m\u001b[0m\n\u001b[1;32m    326\u001b[0m             \u001b[0;32mexcept\u001b[0m \u001b[0mIndexError\u001b[0m\u001b[0;34m:\u001b[0m\u001b[0;34m\u001b[0m\u001b[0m\n",
      "\u001b[0;31mValueError\u001b[0m: 'z' is a bad directive in format '%H:%M%z'"
     ]
    }
   ],
   "source": [
    "import time\n",
    "t = time.strptime('12:00+0500','%H:%M%z')"
   ]
  },
  {
   "cell_type": "code",
   "execution_count": 107,
   "metadata": {},
   "outputs": [],
   "source": [
    "import os\n",
    "import json\n",
    "import time\n",
    "import pandas as pd\n",
    "\n",
    "# Change directory to filesdir\n",
    "# os.chdir('../../data/')\n",
    "class VericastMatchReporter:\n",
    "    \"\"\"\n",
    "    @params: filename, start_date, start_time, end_date, end_time, time_zone\n",
    "    \"\"\"\n",
    "    \n",
    "    report_name = 'vericast-api-matches'\n",
    "    report_file_extension = 'xslx'\n",
    "    df = pd.DataFrame(columns=['title','length','album','artist','start_time_utc'])\n",
    "    channel = None\n",
    "    start_time = None\n",
    "    end_time = None\n",
    "    matches_between_dates = None\n",
    "    \n",
    "    def __init__(self, **kwargs):\n",
    "        \"\"\"Initilize report, make a pandas dataframe with the matches from filename.\"\"\"\n",
    "        # Process kwargs\n",
    "        self.filename = kwargs['filename']\n",
    "        self.channel = self.filename.split('/')[-1].split('-')[-1].split('.')[0]\n",
    "        self.report_name += '-'+self.channel\n",
    "        self.time_zone = kwargs['time_zone']\n",
    "        try:\n",
    "            # Localize  and covert to UTC datetimes from kwargs\n",
    "            # Unaware\n",
    "\n",
    "            self.start_time = dateutil.parser.parse(('%sT%s.000000'.format(kwargs['start_date'],kwargs['start_time'])))\n",
    "            self.start_time = self.start_time.replace(tzinfo=self.time_zone)\n",
    "            self.end_time = dateutil.parser.parse(kwargs['end_date']+'T'+kwargs['end_time'])\n",
    "            self.end_time = self.end_time.replace(tzinfo=self.time_zone)\n",
    "        except:\n",
    "            raise\n",
    "        with open(self.filename) as f:\n",
    "            for line in f.readlines():\n",
    "                # Append match into df\n",
    "                match = json.loads(line)\n",
    "                self.df = self.df.append(match, ignore_index=True)\n",
    "                \n",
    "        # Cast file dates as aware datetime UTC \n",
    "        self.df['start_time_utc'] = pd.to_datetime(self.df['start_time_utc'], yearfirst=True, utc=True)\n",
    "        print('Reporter initialized.')\n",
    "        \n",
    "    def create_report_between_times_xlsx(self):\n",
    "        # For international clients, it's best to have have TZ aware datetimes\n",
    "        # Localize UTC for datetime filtering\n",
    "        self.df['localized_time'] = self.df['start_time_utc'] # .map(lambda x: utc_to_local(x))\n",
    "        \n",
    "        # Make a mask boolean mask between dates\n",
    "        mask = (self.df['localized_time'] >= self.start_time) & (self.df['localized_time'] <= self.end_time)\n",
    "        self.matches_between_dates = self.df.loc[mask]\n",
    "        \"\"\"\n",
    "        # or Filter by index\n",
    "        self.df_date_idx = self.df.set_index('localized_time')\n",
    "        self.matches_by_idx = self.df.loc[self.start_time:self.end_time]\n",
    "        \"\"\"\n",
    "        print('File {} with {} matches has been created.'.format(self.report_name, self.matches_between_dates.count()))\n",
    "        return self.matches_between_dates\n",
    "        \n",
    "        \n",
    "    \n",
    "    def __str__(self):\n",
    "        return 'Vericast API matches from '+self.channel.replace('_', ' ').upper()+' between times '+str(self.start_time)+' and '+str(self.end_time)+' UTC.'\n",
    "\n",
    "    def __repr__(self):\n",
    "        return \"<{}: Channel {}>\".format(self.__class__.__name__, self.channel)"
   ]
  },
  {
   "cell_type": "code",
   "execution_count": 108,
   "metadata": {},
   "outputs": [
    {
     "ename": "ParserError",
     "evalue": "Unknown string format: %sT%s.000000",
     "output_type": "error",
     "traceback": [
      "\u001b[0;31m---------------------------------------------------------------------------\u001b[0m",
      "\u001b[0;31mParserError\u001b[0m                               Traceback (most recent call last)",
      "\u001b[0;32m<ipython-input-108-d355bc0563ef>\u001b[0m in \u001b[0;36m<module>\u001b[0;34m()\u001b[0m\n\u001b[1;32m      5\u001b[0m     \u001b[0mend_date\u001b[0m\u001b[0;34m=\u001b[0m\u001b[0;34m'2018-02-01'\u001b[0m\u001b[0;34m,\u001b[0m\u001b[0;34m\u001b[0m\u001b[0m\n\u001b[1;32m      6\u001b[0m     \u001b[0mend_time\u001b[0m\u001b[0;34m=\u001b[0m\u001b[0;34m'00:00:00'\u001b[0m\u001b[0;34m,\u001b[0m\u001b[0;34m\u001b[0m\u001b[0m\n\u001b[0;32m----> 7\u001b[0;31m     \u001b[0mtime_zone\u001b[0m \u001b[0;34m=\u001b[0m\u001b[0;34m'Europe/Madrid'\u001b[0m\u001b[0;34m\u001b[0m\u001b[0m\n\u001b[0m\u001b[1;32m      8\u001b[0m )\n\u001b[1;32m      9\u001b[0m \u001b[0;32mprint\u001b[0m\u001b[0;34m(\u001b[0m\u001b[0mreport\u001b[0m\u001b[0;34m.\u001b[0m\u001b[0mstart_time\u001b[0m\u001b[0;34m,\u001b[0m \u001b[0mtype\u001b[0m\u001b[0;34m(\u001b[0m\u001b[0mreport\u001b[0m\u001b[0;34m.\u001b[0m\u001b[0mstart_time\u001b[0m\u001b[0;34m)\u001b[0m\u001b[0;34m)\u001b[0m\u001b[0;34m\u001b[0m\u001b[0m\n",
      "\u001b[0;32m<ipython-input-107-c01772c2165e>\u001b[0m in \u001b[0;36m__init__\u001b[0;34m(self, **kwargs)\u001b[0m\n\u001b[1;32m     30\u001b[0m             \u001b[0;31m# Unaware\u001b[0m\u001b[0;34m\u001b[0m\u001b[0;34m\u001b[0m\u001b[0m\n\u001b[1;32m     31\u001b[0m \u001b[0;34m\u001b[0m\u001b[0m\n\u001b[0;32m---> 32\u001b[0;31m             \u001b[0mself\u001b[0m\u001b[0;34m.\u001b[0m\u001b[0mstart_time\u001b[0m \u001b[0;34m=\u001b[0m \u001b[0mdateutil\u001b[0m\u001b[0;34m.\u001b[0m\u001b[0mparser\u001b[0m\u001b[0;34m.\u001b[0m\u001b[0mparse\u001b[0m\u001b[0;34m(\u001b[0m\u001b[0;34m(\u001b[0m\u001b[0;34m'%sT%s.000000'\u001b[0m\u001b[0;34m.\u001b[0m\u001b[0mformat\u001b[0m\u001b[0;34m(\u001b[0m\u001b[0mkwargs\u001b[0m\u001b[0;34m[\u001b[0m\u001b[0;34m'start_date'\u001b[0m\u001b[0;34m]\u001b[0m\u001b[0;34m,\u001b[0m\u001b[0mkwargs\u001b[0m\u001b[0;34m[\u001b[0m\u001b[0;34m'start_time'\u001b[0m\u001b[0;34m]\u001b[0m\u001b[0;34m)\u001b[0m\u001b[0;34m)\u001b[0m\u001b[0;34m)\u001b[0m\u001b[0;34m\u001b[0m\u001b[0m\n\u001b[0m\u001b[1;32m     33\u001b[0m             \u001b[0mself\u001b[0m\u001b[0;34m.\u001b[0m\u001b[0mstart_time\u001b[0m \u001b[0;34m=\u001b[0m \u001b[0mself\u001b[0m\u001b[0;34m.\u001b[0m\u001b[0mstart_time\u001b[0m\u001b[0;34m.\u001b[0m\u001b[0mreplace\u001b[0m\u001b[0;34m(\u001b[0m\u001b[0mtzinfo\u001b[0m\u001b[0;34m=\u001b[0m\u001b[0mself\u001b[0m\u001b[0;34m.\u001b[0m\u001b[0mtime_zone\u001b[0m\u001b[0;34m)\u001b[0m\u001b[0;34m\u001b[0m\u001b[0m\n\u001b[1;32m     34\u001b[0m             \u001b[0mself\u001b[0m\u001b[0;34m.\u001b[0m\u001b[0mend_time\u001b[0m \u001b[0;34m=\u001b[0m \u001b[0mdateutil\u001b[0m\u001b[0;34m.\u001b[0m\u001b[0mparser\u001b[0m\u001b[0;34m.\u001b[0m\u001b[0mparse\u001b[0m\u001b[0;34m(\u001b[0m\u001b[0mkwargs\u001b[0m\u001b[0;34m[\u001b[0m\u001b[0;34m'end_date'\u001b[0m\u001b[0;34m]\u001b[0m\u001b[0;34m+\u001b[0m\u001b[0;34m'T'\u001b[0m\u001b[0;34m+\u001b[0m\u001b[0mkwargs\u001b[0m\u001b[0;34m[\u001b[0m\u001b[0;34m'end_time'\u001b[0m\u001b[0;34m]\u001b[0m\u001b[0;34m)\u001b[0m\u001b[0;34m\u001b[0m\u001b[0m\n",
      "\u001b[0;32m/Users/lapdog/anaconda3/envs/bmat/lib/python2.7/site-packages/dateutil/parser/_parser.pyc\u001b[0m in \u001b[0;36mparse\u001b[0;34m(timestr, parserinfo, **kwargs)\u001b[0m\n\u001b[1;32m   1372\u001b[0m         \u001b[0;32mreturn\u001b[0m \u001b[0mparser\u001b[0m\u001b[0;34m(\u001b[0m\u001b[0mparserinfo\u001b[0m\u001b[0;34m)\u001b[0m\u001b[0;34m.\u001b[0m\u001b[0mparse\u001b[0m\u001b[0;34m(\u001b[0m\u001b[0mtimestr\u001b[0m\u001b[0;34m,\u001b[0m \u001b[0;34m**\u001b[0m\u001b[0mkwargs\u001b[0m\u001b[0;34m)\u001b[0m\u001b[0;34m\u001b[0m\u001b[0m\n\u001b[1;32m   1373\u001b[0m     \u001b[0;32melse\u001b[0m\u001b[0;34m:\u001b[0m\u001b[0;34m\u001b[0m\u001b[0m\n\u001b[0;32m-> 1374\u001b[0;31m         \u001b[0;32mreturn\u001b[0m \u001b[0mDEFAULTPARSER\u001b[0m\u001b[0;34m.\u001b[0m\u001b[0mparse\u001b[0m\u001b[0;34m(\u001b[0m\u001b[0mtimestr\u001b[0m\u001b[0;34m,\u001b[0m \u001b[0;34m**\u001b[0m\u001b[0mkwargs\u001b[0m\u001b[0;34m)\u001b[0m\u001b[0;34m\u001b[0m\u001b[0m\n\u001b[0m\u001b[1;32m   1375\u001b[0m \u001b[0;34m\u001b[0m\u001b[0m\n\u001b[1;32m   1376\u001b[0m \u001b[0;34m\u001b[0m\u001b[0m\n",
      "\u001b[0;32m/Users/lapdog/anaconda3/envs/bmat/lib/python2.7/site-packages/dateutil/parser/_parser.pyc\u001b[0m in \u001b[0;36mparse\u001b[0;34m(self, timestr, default, ignoretz, tzinfos, **kwargs)\u001b[0m\n\u001b[1;32m    647\u001b[0m \u001b[0;34m\u001b[0m\u001b[0m\n\u001b[1;32m    648\u001b[0m         \u001b[0;32mif\u001b[0m \u001b[0mres\u001b[0m \u001b[0;32mis\u001b[0m \u001b[0mNone\u001b[0m\u001b[0;34m:\u001b[0m\u001b[0;34m\u001b[0m\u001b[0m\n\u001b[0;32m--> 649\u001b[0;31m             \u001b[0;32mraise\u001b[0m \u001b[0mParserError\u001b[0m\u001b[0;34m(\u001b[0m\u001b[0;34m\"Unknown string format: %s\"\u001b[0m\u001b[0;34m,\u001b[0m \u001b[0mtimestr\u001b[0m\u001b[0;34m)\u001b[0m\u001b[0;34m\u001b[0m\u001b[0m\n\u001b[0m\u001b[1;32m    650\u001b[0m \u001b[0;34m\u001b[0m\u001b[0m\n\u001b[1;32m    651\u001b[0m         \u001b[0;32mif\u001b[0m \u001b[0mlen\u001b[0m\u001b[0;34m(\u001b[0m\u001b[0mres\u001b[0m\u001b[0;34m)\u001b[0m \u001b[0;34m==\u001b[0m \u001b[0;36m0\u001b[0m\u001b[0;34m:\u001b[0m\u001b[0;34m\u001b[0m\u001b[0m\n",
      "\u001b[0;31mParserError\u001b[0m: Unknown string format: %sT%s.000000"
     ]
    }
   ],
   "source": [
    "report = VericastMatchReporter(\n",
    "    filename='matches-la_sexta.json', \n",
    "    start_date='2018-01-29', \n",
    "    start_time='12:00:00', \n",
    "    end_date='2018-02-01',\n",
    "    end_time='00:00:00',\n",
    "    time_zone ='Europe/Madrid'\n",
    ")\n",
    "print(report.start_time, type(report.start_time))\n"
   ]
  },
  {
   "cell_type": "code",
   "execution_count": 100,
   "metadata": {},
   "outputs": [
    {
     "ename": "NameError",
     "evalue": "name 'user_start_time' is not defined",
     "output_type": "error",
     "traceback": [
      "\u001b[0;31m---------------------------------------------------------------------------\u001b[0m",
      "\u001b[0;31mNameError\u001b[0m                                 Traceback (most recent call last)",
      "\u001b[0;32m<ipython-input-100-045dbc1b7dd4>\u001b[0m in \u001b[0;36m<module>\u001b[0;34m()\u001b[0m\n\u001b[1;32m      3\u001b[0m \u001b[0;31m#didx2 = pd.DatetimeIndex(report.df['converted_time']).tz_convert(tz ='Europe/Madrid')\u001b[0m\u001b[0;34m\u001b[0m\u001b[0;34m\u001b[0m\u001b[0m\n\u001b[1;32m      4\u001b[0m \u001b[0;31m# didx2\u001b[0m\u001b[0;34m\u001b[0m\u001b[0;34m\u001b[0m\u001b[0m\n\u001b[0;32m----> 5\u001b[0;31m \u001b[0;32mprint\u001b[0m\u001b[0;34m(\u001b[0m\u001b[0muser_start_time\u001b[0m\u001b[0;34m)\u001b[0m\u001b[0;34m\u001b[0m\u001b[0m\n\u001b[0m\u001b[1;32m      6\u001b[0m \u001b[0mreport\u001b[0m\u001b[0;34m.\u001b[0m\u001b[0mdf\u001b[0m\u001b[0;34m[\u001b[0m\u001b[0;34m'localized_time'\u001b[0m\u001b[0;34m]\u001b[0m\u001b[0;34m.\u001b[0m\u001b[0mhead\u001b[0m\u001b[0;34m(\u001b[0m\u001b[0;34m)\u001b[0m\u001b[0;34m\u001b[0m\u001b[0m\n\u001b[1;32m      7\u001b[0m \u001b[0mreport\u001b[0m\u001b[0;34m.\u001b[0m\u001b[0mdf\u001b[0m\u001b[0;34m[\u001b[0m\u001b[0;34m'start_time_utc'\u001b[0m\u001b[0;34m]\u001b[0m\u001b[0;34m.\u001b[0m\u001b[0mhead\u001b[0m\u001b[0;34m(\u001b[0m\u001b[0;34m)\u001b[0m\u001b[0;34m\u001b[0m\u001b[0m\n",
      "\u001b[0;31mNameError\u001b[0m: name 'user_start_time' is not defined"
     ]
    }
   ],
   "source": [
    "# Create the DatetimeIndex \n",
    "# Here 'Q' represents quarter end frequency  \n",
    "#didx2 = pd.DatetimeIndex(report.df['converted_time']).tz_convert(tz ='Europe/Madrid')\n",
    "# didx2\n",
    "print(user_start_time)\n",
    "report.df['localized_time'].head()\n",
    "report.df['start_time_utc'].head()\n"
   ]
  },
  {
   "cell_type": "code",
   "execution_count": 49,
   "metadata": {},
   "outputs": [
    {
     "name": "stdout",
     "output_type": "stream",
     "text": [
      "File vericast-api-matches-la_sexta with title             40\n",
      "length            40\n",
      "album             40\n",
      "artist            40\n",
      "start_time_utc    40\n",
      "localized_time    40\n",
      "dtype: int64 matches has been created.\n"
     ]
    }
   ],
   "source": [
    "matches = report.create_report_between_times_xlsx()\n",
    "df2 = report.df.head(3)"
   ]
  },
  {
   "cell_type": "code",
   "execution_count": 50,
   "metadata": {},
   "outputs": [
    {
     "data": {
      "text/html": [
       "<div>\n",
       "<style scoped>\n",
       "    .dataframe tbody tr th:only-of-type {\n",
       "        vertical-align: middle;\n",
       "    }\n",
       "\n",
       "    .dataframe tbody tr th {\n",
       "        vertical-align: top;\n",
       "    }\n",
       "\n",
       "    .dataframe thead th {\n",
       "        text-align: right;\n",
       "    }\n",
       "</style>\n",
       "<table border=\"1\" class=\"dataframe\">\n",
       "  <thead>\n",
       "    <tr style=\"text-align: right;\">\n",
       "      <th></th>\n",
       "      <th>title</th>\n",
       "      <th>length</th>\n",
       "      <th>album</th>\n",
       "      <th>artist</th>\n",
       "      <th>start_time_utc</th>\n",
       "    </tr>\n",
       "    <tr>\n",
       "      <th>localized_time</th>\n",
       "      <th></th>\n",
       "      <th></th>\n",
       "      <th></th>\n",
       "      <th></th>\n",
       "      <th></th>\n",
       "    </tr>\n",
       "  </thead>\n",
       "  <tbody>\n",
       "    <tr>\n",
       "      <th>2018-02-16 07:28:59</th>\n",
       "      <td>Get Set Go Part 1</td>\n",
       "      <td>16</td>\n",
       "      <td>Elimination TV</td>\n",
       "      <td>Jody Karl Jenkins</td>\n",
       "      <td>2018-02-16 07:28:59+00:00</td>\n",
       "    </tr>\n",
       "    <tr>\n",
       "      <th>2018-02-16 07:12:23</th>\n",
       "      <td>Fight or Flight</td>\n",
       "      <td>9</td>\n",
       "      <td>Percussive Textures</td>\n",
       "      <td>Carl  Harms</td>\n",
       "      <td>2018-02-16 07:12:23+00:00</td>\n",
       "    </tr>\n",
       "    <tr>\n",
       "      <th>2018-02-16 07:11:20</th>\n",
       "      <td>Those Three Words</td>\n",
       "      <td>14</td>\n",
       "      <td>Abstract Future - Let You In</td>\n",
       "      <td>Andrew Haas, Ian Franzino, Laura Lane</td>\n",
       "      <td>2018-02-16 07:11:20+00:00</td>\n",
       "    </tr>\n",
       "  </tbody>\n",
       "</table>\n",
       "</div>"
      ],
      "text/plain": [
       "                                 title length                         album  \\\n",
       "localized_time                                                                \n",
       "2018-02-16 07:28:59  Get Set Go Part 1     16                Elimination TV   \n",
       "2018-02-16 07:12:23    Fight or Flight      9           Percussive Textures   \n",
       "2018-02-16 07:11:20  Those Three Words     14  Abstract Future - Let You In   \n",
       "\n",
       "                                                    artist  \\\n",
       "localized_time                                               \n",
       "2018-02-16 07:28:59                      Jody Karl Jenkins   \n",
       "2018-02-16 07:12:23                            Carl  Harms   \n",
       "2018-02-16 07:11:20  Andrew Haas, Ian Franzino, Laura Lane   \n",
       "\n",
       "                               start_time_utc  \n",
       "localized_time                                 \n",
       "2018-02-16 07:28:59 2018-02-16 07:28:59+00:00  \n",
       "2018-02-16 07:12:23 2018-02-16 07:12:23+00:00  \n",
       "2018-02-16 07:11:20 2018-02-16 07:11:20+00:00  "
      ]
     },
     "execution_count": 50,
     "metadata": {},
     "output_type": "execute_result"
    }
   ],
   "source": [
    "df2 = df2.set_index('localized_time')\n",
    "df2.tz_convert(None)"
   ]
  },
  {
   "cell_type": "code",
   "execution_count": 66,
   "metadata": {},
   "outputs": [
    {
     "data": {
      "text/plain": [
       "datetime.datetime(2020, 2, 27, 19, 32, 36, 413130)"
      ]
     },
     "execution_count": 66,
     "metadata": {},
     "output_type": "execute_result"
    }
   ],
   "source": [
    "datetime.datetime.now()\n"
   ]
  },
  {
   "cell_type": "code",
   "execution_count": 45,
   "metadata": {
    "collapsed": true
   },
   "outputs": [
    {
     "name": "stdout",
     "output_type": "stream",
     "text": [
      "Help on method tz_convert in module pandas.core.accessor:\n",
      "\n",
      "tz_convert(self, *args, **kwargs) unbound pandas.core.indexes.datetimes.DatetimeIndex method\n",
      "    Convert tz-aware Datetime Array/Index from one time zone to another.\n",
      "    \n",
      "    Parameters\n",
      "    ----------\n",
      "    tz : string, pytz.timezone, dateutil.tz.tzfile or None\n",
      "        Time zone for time. Corresponding timestamps would be converted\n",
      "        to this time zone of the Datetime Array/Index. A `tz` of None will\n",
      "        convert to UTC and remove the timezone information.\n",
      "    \n",
      "    Returns\n",
      "    -------\n",
      "    normalized : same type as self\n",
      "    \n",
      "    Raises\n",
      "    ------\n",
      "    TypeError\n",
      "        If Datetime Array/Index is tz-naive.\n",
      "    \n",
      "    See Also\n",
      "    --------\n",
      "    DatetimeIndex.tz : A timezone that has a variable offset from UTC.\n",
      "    DatetimeIndex.tz_localize : Localize tz-naive DatetimeIndex to a\n",
      "        given time zone, or remove timezone from a tz-aware DatetimeIndex.\n",
      "    \n",
      "    Examples\n",
      "    --------\n",
      "    With the `tz` parameter, we can change the DatetimeIndex\n",
      "    to other time zones:\n",
      "    \n",
      "    >>> dti = pd.date_range(start='2014-08-01 09:00',\n",
      "    ...                     freq='H', periods=3, tz='Europe/Berlin')\n",
      "    \n",
      "    >>> dti\n",
      "    DatetimeIndex(['2014-08-01 09:00:00+02:00',\n",
      "                   '2014-08-01 10:00:00+02:00',\n",
      "                   '2014-08-01 11:00:00+02:00'],\n",
      "                  dtype='datetime64[ns, Europe/Berlin]', freq='H')\n",
      "    \n",
      "    >>> dti.tz_convert('US/Central')\n",
      "    DatetimeIndex(['2014-08-01 02:00:00-05:00',\n",
      "                   '2014-08-01 03:00:00-05:00',\n",
      "                   '2014-08-01 04:00:00-05:00'],\n",
      "                  dtype='datetime64[ns, US/Central]', freq='H')\n",
      "    \n",
      "    With the ``tz=None``, we can remove the timezone (after converting\n",
      "    to UTC if necessary):\n",
      "    \n",
      "    >>> dti = pd.date_range(start='2014-08-01 09:00',freq='H',\n",
      "    ...                     periods=3, tz='Europe/Berlin')\n",
      "    \n",
      "    >>> dti\n",
      "    DatetimeIndex(['2014-08-01 09:00:00+02:00',\n",
      "                   '2014-08-01 10:00:00+02:00',\n",
      "                   '2014-08-01 11:00:00+02:00'],\n",
      "                    dtype='datetime64[ns, Europe/Berlin]', freq='H')\n",
      "    \n",
      "    >>> dti.tz_convert(None)\n",
      "    DatetimeIndex(['2014-08-01 07:00:00',\n",
      "                   '2014-08-01 08:00:00',\n",
      "                   '2014-08-01 09:00:00'],\n",
      "                    dtype='datetime64[ns]', freq='H')\n",
      "\n"
     ]
    }
   ],
   "source": [
    "help(pd.DatetimeIndex.tz_convert)"
   ]
  },
  {
   "cell_type": "code",
   "execution_count": 70,
   "metadata": {},
   "outputs": [
    {
     "ename": "TypeError",
     "evalue": "descriptor 'tzname' of 'datetime.datetime' object needs an argument",
     "output_type": "error",
     "traceback": [
      "\u001b[0;31m---------------------------------------------------------------------------\u001b[0m",
      "\u001b[0;31mTypeError\u001b[0m                                 Traceback (most recent call last)",
      "\u001b[0;32m<ipython-input-70-dc63dc30ff77>\u001b[0m in \u001b[0;36m<module>\u001b[0;34m()\u001b[0m\n\u001b[0;32m----> 1\u001b[0;31m \u001b[0mdatetime\u001b[0m\u001b[0;34m.\u001b[0m\u001b[0mdatetime\u001b[0m\u001b[0;34m.\u001b[0m\u001b[0mtzname\u001b[0m\u001b[0;34m.\u001b[0m\u001b[0m__call__\u001b[0m\u001b[0;34m(\u001b[0m\u001b[0;34m)\u001b[0m\u001b[0;34m\u001b[0m\u001b[0m\n\u001b[0m",
      "\u001b[0;31mTypeError\u001b[0m: descriptor 'tzname' of 'datetime.datetime' object needs an argument"
     ]
    }
   ],
   "source": [
    "datetime.datetime.tzname.__call__()"
   ]
  },
  {
   "cell_type": "code",
   "execution_count": null,
   "metadata": {},
   "outputs": [],
   "source": [
    "\n",
    "df.start_time_utc.between_time()"
   ]
  },
  {
   "cell_type": "code",
   "execution_count": null,
   "metadata": {},
   "outputs": [],
   "source": [
    "i = pd.date_range('2018-04-09', periods=4, freq='1D20min')\n",
    "\n",
    "ts = pd.DataFrame({'A': [1, 2, 3, 4]}, index=i)\n",
    "\n",
    "ts"
   ]
  },
  {
   "cell_type": "code",
   "execution_count": null,
   "metadata": {},
   "outputs": [],
   "source": [
    "ts.between_time('0:15', '0:45')"
   ]
  },
  {
   "cell_type": "code",
   "execution_count": 75,
   "metadata": {},
   "outputs": [
    {
     "ename": "NameError",
     "evalue": "name 'df' is not defined",
     "output_type": "error",
     "traceback": [
      "\u001b[0;31m---------------------------------------------------------------------------\u001b[0m",
      "\u001b[0;31mNameError\u001b[0m                                 Traceback (most recent call last)",
      "\u001b[0;32m<ipython-input-75-00cf07b74dcd>\u001b[0m in \u001b[0;36m<module>\u001b[0;34m()\u001b[0m\n\u001b[0;32m----> 1\u001b[0;31m \u001b[0mdf\u001b[0m\u001b[0;34m\u001b[0m\u001b[0m\n\u001b[0m",
      "\u001b[0;31mNameError\u001b[0m: name 'df' is not defined"
     ]
    }
   ],
   "source": [
    "import pandas as pd \n",
    "  \n",
    "# Create the DatetimeIndex \n",
    "# Here 'Q' represents quarter end frequency  \n",
    "didx = pd.DatetimeIndex(start ='2000-01-15 08:00', freq ='Q', \n",
    "                            periods = 4, tz ='Asia/Calcutta') "
   ]
  },
  {
   "cell_type": "code",
   "execution_count": null,
   "metadata": {},
   "outputs": [],
   "source": [
    "start_time = '2018-02-15 21:22:12+00:00'\n",
    "#end_time = datetime.datetime.strptime('2018-02-16 07:28:59+00:00', '')\n",
    "end_time = '2018-02-16 07:28:59+00:00'\n",
    "df['start_time_utc']   #.astype(str).between_time(start_time, end_time)\n"
   ]
  },
  {
   "cell_type": "code",
   "execution_count": null,
   "metadata": {},
   "outputs": [],
   "source": [
    "df.head(1)"
   ]
  },
  {
   "cell_type": "code",
   "execution_count": 74,
   "metadata": {},
   "outputs": [
    {
     "ename": "NameError",
     "evalue": "name 'start_time' is not defined",
     "output_type": "error",
     "traceback": [
      "\u001b[0;31m---------------------------------------------------------------------------\u001b[0m",
      "\u001b[0;31mNameError\u001b[0m                                 Traceback (most recent call last)",
      "\u001b[0;32m<ipython-input-74-61eac428907b>\u001b[0m in \u001b[0;36m<module>\u001b[0;34m()\u001b[0m\n\u001b[0;32m----> 1\u001b[0;31m \u001b[0mdateutil\u001b[0m\u001b[0;34m.\u001b[0m\u001b[0mtz\u001b[0m\u001b[0;34m.\u001b[0m\u001b[0mtzfile\u001b[0m\u001b[0;34m.\u001b[0m\u001b[0mtzname\u001b[0m\u001b[0;34m(\u001b[0m\u001b[0mstart_time\u001b[0m\u001b[0;34m)\u001b[0m\u001b[0;34m\u001b[0m\u001b[0m\n\u001b[0m",
      "\u001b[0;31mNameError\u001b[0m: name 'start_time' is not defined"
     ]
    }
   ],
   "source": [
    "dateutil.tz.tzfile.tzname(start_time)"
   ]
  },
  {
   "cell_type": "code",
   "execution_count": null,
   "metadata": {},
   "outputs": [],
   "source": []
  }
 ],
 "metadata": {
  "kernelspec": {
   "display_name": "Django Shell-Plus",
   "language": "python",
   "name": "django_extensions"
  },
  "language_info": {
   "codemirror_mode": {
    "name": "ipython",
    "version": 2
   },
   "file_extension": ".py",
   "mimetype": "text/x-python",
   "name": "python",
   "nbconvert_exporter": "python",
   "pygments_lexer": "ipython2",
   "version": "2.7.17"
  }
 },
 "nbformat": 4,
 "nbformat_minor": 2
}
