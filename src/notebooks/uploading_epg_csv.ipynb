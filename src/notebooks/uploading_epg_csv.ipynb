{
 "cells": [
  {
   "cell_type": "code",
   "execution_count": 1,
   "metadata": {},
   "outputs": [],
   "source": [
    "import os\n",
    "import sys\n",
    "\n",
    "import pandas as pd\n",
    "import numpy as np\n",
    "import datetime\n",
    "\n",
    "from django.db import IntegrityError\n",
    "\n",
    "from tv import models as tv_models\n",
    "\n",
    "\n",
    "# Change DataFrame dtypes to match Database models\n",
    "def model_for_db(csv):\n",
    "    \"\"\"\n",
    "    @parameters:\n",
    "    - csv: Electronic Guide filename in comma separated values (.csv)\n",
    "\n",
    "    @returns:\n",
    "    - Dataframe with items formatted for bmat tv/av programs\n",
    "    \"\"\"\n",
    "\n",
    "    # Load csv into Dataframe\n",
    "    df = pd.read_csv(csv)\n",
    "\n",
    "    # Fill n/a with readable string \"n/a\"\n",
    "    df = df.fillna('n/a')\n",
    "    df['program_year'] = df['program_year'].astype(str)\n",
    "    df['start_time'] = (df['start_date'].astype(str) + ' ' + df['start_time']).map(\n",
    "        lambda x: datetime.datetime.strptime(x, '%Y%m%d %H:%M')\n",
    "    )\n",
    "    df['duration_in_seconds'] = pd.to_timedelta(df['duration_in_seconds'], unit='seconds')\n",
    "    df['end_time'] = df['start_time'] + df['duration_in_seconds']\n",
    "    df = df.drop(['start_date', 'duration_in_seconds'], axis=1)\n",
    "    return df\n",
    "\n",
    "\n",
    "# Get or create Program with channel obj and row data\n",
    "def create_program(row, channel):\n",
    "    if row.program_year != 'n/a':\n",
    "        year = row.program_year[0:4]\n",
    "    else:\n",
    "        year = row.program_year\n",
    "    program, created =tv_models.Program.objects.get_or_create(uid=row.program_id, channel=channel,\n",
    "                                                            year=year,\n",
    "                                                            local_title=row.program_local_title,\n",
    "                                                            original_title=row.program_original_title\n",
    "                                                            )\n",
    "    if created:\n",
    "        program.save()\n",
    "        print(\"Program {} with id {} added to DB.\".format(program.local_title,\n",
    "                                                          program.uid,\n",
    "                                                          ))\n",
    "    return program\n",
    "\n",
    "\n",
    "def create_channel(row):\n",
    "    channel, created = tv_models.Channel.objects.get_or_create(uid=row.channel_id,\n",
    "                                                     name=row.channel_name,\n",
    "                                                     country_code=row.channel_country\n",
    "                                                     )\n",
    "    if created:\n",
    "        channel.save()\n",
    "        print('Channel {} from {} with id {} added to DB.'.format(channel.name,\n",
    "                                                                  channel.country_code,\n",
    "                                                                  channel.id\n",
    "                                                                  ))\n",
    "    return channel\n",
    "\n",
    "\n",
    "def create_showtime(row, program):\n",
    "    showtime, created = tv_models.Showtime.objects.get_or_create(program=program,\n",
    "                                                              start_time=row.start_time,\n",
    "                                                              end_time=row.end_time\n",
    "                                                              )\n",
    "    if created:\n",
    "        showtime.save()\n",
    "        print('Showtime starting on {} added to '.format(row.start_time)+program.local_title)\n",
    "    return showtime\n",
    "\n",
    "\n",
    "# Create Showtimes from DataFrame\n",
    "def add_showtimes_from_dataframe(df, filename):\n",
    "    for index, row in df.iterrows():\n",
    "        channel = create_channel(row)\n",
    "        program = create_program(row, channel)\n",
    "        create_showtime(row, program)\n",
    "\n",
    "    print(\"Finished adding programs from {}\".format(filename))\n",
    "\n",
    "\n",
    "def main():\n",
    "    os.environ[\"DJANGO_ALLOW_ASYNC_UNSAFE\"] = \"true\"\n",
    "    filename = None\n",
    "    while filename is None:\n",
    "        filename = input('Please enter the full path to the Electronic Program Guide: ')\n",
    "        if os.path.isfile(filename):\n",
    "            os.chdir(filename[0:-len(filename.split('/')[-1])])\n",
    "            print (\"Uploading programs to database...\")\n",
    "            df = model_for_db(filename.split('/')[-1])\n",
    "            add_showtimes_from_dataframe(df, filename)\n",
    "            print (\"Finished uploading programs from {} to database.\".format(filename))\n",
    "            return\n",
    "        else:\n",
    "            filename = None\n",
    "            print (\"File does not exist. Check the path is correct and try again.\")\n"
   ]
  },
  {
   "cell_type": "code",
   "execution_count": 2,
   "metadata": {},
   "outputs": [
    {
     "name": "stdout",
     "output_type": "stream",
     "text": [
      " __init__.py\t       upload_from_csv.py\t vericast_reports.py\r\n",
      "'Programs API.ipynb'   uploading_epg_csv.ipynb\t Vericast-reports-tool.ipynb\r\n"
     ]
    },
    {
     "data": {
      "text/plain": [
       "'../../data/epg.csv'"
      ]
     },
     "execution_count": 2,
     "metadata": {},
     "output_type": "execute_result"
    }
   ],
   "source": [
    "! ls .\n",
    "'../../data/epg.csv'"
   ]
  },
  {
   "cell_type": "code",
   "execution_count": 3,
   "metadata": {},
   "outputs": [],
   "source": [
    "df = model_for_db('../../data/epg.csv')"
   ]
  },
  {
   "cell_type": "code",
   "execution_count": 4,
   "metadata": {},
   "outputs": [
    {
     "name": "stdout",
     "output_type": "stream",
     "text": [
      "Finished adding programs from epg.csv\n"
     ]
    }
   ],
   "source": [
    "add_showtimes_from_dataframe(df, 'epg.csv')"
   ]
  },
  {
   "cell_type": "code",
   "execution_count": 5,
   "metadata": {},
   "outputs": [
    {
     "data": {
      "text/html": [
       "<div>\n",
       "<style scoped>\n",
       "    .dataframe tbody tr th:only-of-type {\n",
       "        vertical-align: middle;\n",
       "    }\n",
       "\n",
       "    .dataframe tbody tr th {\n",
       "        vertical-align: top;\n",
       "    }\n",
       "\n",
       "    .dataframe thead th {\n",
       "        text-align: right;\n",
       "    }\n",
       "</style>\n",
       "<table border=\"1\" class=\"dataframe\">\n",
       "  <thead>\n",
       "    <tr style=\"text-align: right;\">\n",
       "      <th></th>\n",
       "      <th>channel_id</th>\n",
       "      <th>channel_name</th>\n",
       "      <th>channel_country</th>\n",
       "      <th>start_time</th>\n",
       "      <th>program_id</th>\n",
       "      <th>program_original_title</th>\n",
       "      <th>program_local_title</th>\n",
       "      <th>program_year</th>\n",
       "      <th>end_time</th>\n",
       "    </tr>\n",
       "  </thead>\n",
       "  <tbody>\n",
       "    <tr>\n",
       "      <th>3420</th>\n",
       "      <td>69036687</td>\n",
       "      <td>RTE 1</td>\n",
       "      <td>IRL</td>\n",
       "      <td>2018-02-11 15:40:00</td>\n",
       "      <td>5787051660</td>\n",
       "      <td>Fair City Omnibus</td>\n",
       "      <td>Fair City Omnibus</td>\n",
       "      <td>2018.0</td>\n",
       "      <td>2018-02-11 17:40:00</td>\n",
       "    </tr>\n",
       "    <tr>\n",
       "      <th>204</th>\n",
       "      <td>69036190</td>\n",
       "      <td>La Sexta</td>\n",
       "      <td>ESP</td>\n",
       "      <td>2018-01-03 14:30:00</td>\n",
       "      <td>768381956</td>\n",
       "      <td>La sexta meteo</td>\n",
       "      <td>La sexta meteo</td>\n",
       "      <td>n/a</td>\n",
       "      <td>2018-01-03 14:45:00</td>\n",
       "    </tr>\n",
       "    <tr>\n",
       "      <th>1184</th>\n",
       "      <td>69036190</td>\n",
       "      <td>La Sexta</td>\n",
       "      <td>ESP</td>\n",
       "      <td>2018-01-15 19:00:00</td>\n",
       "      <td>319923221</td>\n",
       "      <td>laSexta Noticias 2ª Edición</td>\n",
       "      <td>laSexta Noticias 2ª Edición</td>\n",
       "      <td>n/a</td>\n",
       "      <td>2018-01-15 19:55:00</td>\n",
       "    </tr>\n",
       "  </tbody>\n",
       "</table>\n",
       "</div>"
      ],
      "text/plain": [
       "      channel_id channel_name channel_country          start_time  program_id  \\\n",
       "3420    69036687        RTE 1             IRL 2018-02-11 15:40:00  5787051660   \n",
       "204     69036190     La Sexta             ESP 2018-01-03 14:30:00   768381956   \n",
       "1184    69036190     La Sexta             ESP 2018-01-15 19:00:00   319923221   \n",
       "\n",
       "           program_original_title          program_local_title program_year  \\\n",
       "3420            Fair City Omnibus            Fair City Omnibus       2018.0   \n",
       "204                La sexta meteo               La sexta meteo          n/a   \n",
       "1184  laSexta Noticias 2ª Edición  laSexta Noticias 2ª Edición          n/a   \n",
       "\n",
       "                end_time  \n",
       "3420 2018-02-11 17:40:00  \n",
       "204  2018-01-03 14:45:00  \n",
       "1184 2018-01-15 19:55:00  "
      ]
     },
     "execution_count": 5,
     "metadata": {},
     "output_type": "execute_result"
    }
   ],
   "source": [
    "df.sample(3)"
   ]
  }
 ],
 "metadata": {
  "kernelspec": {
   "display_name": "Django Shell-Plus",
   "language": "python",
   "name": "django_extensions"
  },
  "language_info": {
   "codemirror_mode": {
    "name": "ipython",
    "version": 2
   },
   "file_extension": ".py",
   "mimetype": "text/x-python",
   "name": "python",
   "nbconvert_exporter": "python",
   "pygments_lexer": "ipython2",
   "version": "2.7.17"
  }
 },
 "nbformat": 4,
 "nbformat_minor": 2
}
