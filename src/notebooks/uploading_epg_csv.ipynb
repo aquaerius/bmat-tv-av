{
 "cells": [
  {
   "cell_type": "code",
   "execution_count": null,
   "metadata": {},
   "outputs": [],
   "source": [
    "import os\n",
    "import sys\n",
    "\n",
    "import pandas as pd\n",
    "import numpy as np\n",
    "import datetime\n",
    "\n",
    "from django.db import IntegrityError\n",
    "\n",
    "from tv import models as tv_models\n",
    "\n",
    "\n",
    "# Change DataFrame dtypes to match Database models\n",
    "def model_for_db(csv):\n",
    "    \"\"\"\n",
    "    @parameters:\n",
    "    - csv: Electronic Guide filename in comma separated values (.csv)\n",
    "\n",
    "    @returns:\n",
    "    - Dataframe with items formatted for bmat tv/av programs\n",
    "    \"\"\"\n",
    "\n",
    "    # Load csv into Dataframe\n",
    "    df = pd.read_csv(csv)\n",
    "\n",
    "    # Fill n/a with readable string \"n/a\"\n",
    "    df = df.fillna('n/a')\n",
    "    df['program_year'] = df['program_year'].astype(str)\n",
    "    df['start_time'] = (df['start_date'].astype(str) + ' ' + df['start_time']).map(\n",
    "        lambda x: datetime.datetime.strptime(x, '%Y%m%d %H:%M')\n",
    "    )\n",
    "    df['duration_in_seconds'] = pd.to_timedelta(df['duration_in_seconds'], unit='seconds')\n",
    "    df['end_time'] = df['start_time'] + df['duration_in_seconds']\n",
    "    df = df.drop(['start_date', 'duration_in_seconds'], axis=1)\n",
    "    return df\n",
    "\n",
    "\n",
    "# Get or create Program with channel obj and row data\n",
    "def create_program(row, channel):\n",
    "    if row.program_year != 'n/a':\n",
    "        year = row.program_year[0:4]\n",
    "    else:\n",
    "        year = row.program_year\n",
    "    program, created =tv_models.Program.objects.get_or_create(uid=row.program_id, channel=channel,\n",
    "                                                            year=year,\n",
    "                                                            local_title=row.program_local_title,\n",
    "                                                            original_title=row.program_original_title\n",
    "                                                            )\n",
    "    if created:\n",
    "        program.save()\n",
    "        print(\"Program {} with id {} added to DB.\".format(program.local_title,\n",
    "                                                          program.uid,\n",
    "                                                          ))\n",
    "    return program\n",
    "\n",
    "\n",
    "def create_channel(row):\n",
    "    channel, created = tv_models.Channel.objects.get_or_create(uid=row.channel_id,\n",
    "                                                     name=row.channel_name,\n",
    "                                                     country_code=row.channel_country\n",
    "                                                     )\n",
    "    if created:\n",
    "        channel.save()\n",
    "        print('Channel {} from {} with id {} added to DB.'.format(channel.name,\n",
    "                                                                  channel.country_code,\n",
    "                                                                  channel.id\n",
    "                                                                  ))\n",
    "    return channel\n",
    "\n",
    "\n",
    "def create_showtime(row, program):\n",
    "    showtime, created = tv_models.Showtime.objects.get_or_create(program=program,\n",
    "                                                              start_time=row.start_time,\n",
    "                                                              end_time=row.end_time\n",
    "                                                              )\n",
    "    if created:\n",
    "        showtime.save()\n",
    "        print('Showtime starting on {} added to '.format(row.start_time)+program.local_title)\n",
    "    return showtime\n",
    "\n",
    "\n",
    "# Create Showtimes from DataFrame\n",
    "def add_showtimes_from_dataframe(df, filename):\n",
    "    for index, row in df.iterrows():\n",
    "        channel = create_channel(row)\n",
    "        program = create_program(row, channel)\n",
    "        create_showtime(row, program)\n",
    "\n",
    "    print(\"Finished adding programs from {}\".format(filename))\n",
    "\n",
    "\n",
    "def main():\n",
    "    os.environ[\"DJANGO_ALLOW_ASYNC_UNSAFE\"] = \"true\"\n",
    "    filename = None\n",
    "    while filename is None:\n",
    "        filename = input('Please enter the full path to the Electronic Program Guide: ')\n",
    "        if os.path.isfile(filename):\n",
    "            os.chdir(filename[0:-len(filename.split('/')[-1])])\n",
    "            print (\"Uploading programs to database...\")\n",
    "            df = model_for_db(filename.split('/')[-1])\n",
    "            add_showtimes_from_dataframe(df, filename)\n",
    "            print (\"Finished uploading programs from {} to database.\".format(filename))\n",
    "            return\n",
    "        else:\n",
    "            filename = None\n",
    "            print (\"File does not exist. Check the path is correct and try again.\")\n"
   ]
  },
  {
   "cell_type": "code",
   "execution_count": null,
   "metadata": {},
   "outputs": [],
   "source": [
    "! ls .\n",
    "'../../data/epg.csv'"
   ]
  },
  {
   "cell_type": "code",
   "execution_count": null,
   "metadata": {},
   "outputs": [],
   "source": [
    "df = model_for_db('../../data/epg.csv')"
   ]
  },
  {
   "cell_type": "code",
   "execution_count": null,
   "metadata": {},
   "outputs": [],
   "source": [
    "add_showtimes_from_dataframe(df, 'epg.csv')"
   ]
  },
  {
   "cell_type": "code",
   "execution_count": null,
   "metadata": {},
   "outputs": [],
   "source": [
    "df"
   ]
  },
  {
   "cell_type": "markdown",
   "metadata": {},
   "source": [
    "# Vericast tool"
   ]
  },
  {
   "cell_type": "code",
   "execution_count": 2,
   "metadata": {},
   "outputs": [],
   "source": [
    "import calendar\n",
    "import datetime\n",
    "import dateutil.parser\n",
    "\n",
    "def utc_to_local(utc_dt):\n",
    "    # get integer timestamp to avoid precision lost\n",
    "    timestamp = calendar.timegm(utc_dt.timetuple())\n",
    "    local_dt = datetime.datetime.fromtimestamp(timestamp)\n",
    "    assert utc_dt.resolution >= datetime.timedelta(microseconds=1)\n",
    "    return local_dt.replace(microsecond=utc_dt.microsecond)\n"
   ]
  },
  {
   "cell_type": "code",
   "execution_count": 5,
   "metadata": {},
   "outputs": [],
   "source": [
    "import os\n",
    "import json\n",
    "import pandas as pd\n",
    "\n",
    "\n",
    "            \n",
    "\n",
    "# Change directory to filesdir\n",
    "os.chdir('../../data/')\n",
    "class VericastMatchReporter:\n",
    "    \"\"\"\n",
    "    Handles ISO 8601 format datetimes.\n",
    "    @params: filename, start_date, start_time, end_date, end_time, time_zone\n",
    "    \"\"\"\n",
    "    \n",
    "    df = pd.DataFrame(columns=['title','length','album','artist','start_time_utc'])\n",
    "    matches_between_dates = None\n",
    "    start_time = None\n",
    "    end_time = None\n",
    "    report_name = 'vericast-api-matches'\n",
    "    report_file_extension = 'xslx'\n",
    "    \n",
    "    def __init__(self, **kwargs):\n",
    "        \"\"\"Initilize report, make a pandas dataframe with the matches.\"\"\"\n",
    "        self.filename = kwargs['filename']\n",
    "        self.channel = self.filename.split('/')[-1].split('-')[-1].split('.')[0]\n",
    "        self.report_name += '-'+self.channel \n",
    "        try:\n",
    "            self.start_time = dateutil.parser.parse(kwargs['start_date']+'T'+kwargs['start_time']+kwargs['tz_offset'])\n",
    "            self.end_time = dateutil.parser.parse(kwargs['end_date']+'T'+kwargs['end_time']+kwargs['tz_offset'])\n",
    "        except:\n",
    "            raise\n",
    "        with open(self.filename) as f:\n",
    "            for line in f.readlines():\n",
    "                # Append match into df\n",
    "                match = json.loads(line)\n",
    "                self.df = self.df.append(match, ignore_index=True)\n",
    "                \n",
    "        # Cast dates as aware datetime \n",
    "        self.df['start_time_utc'] = pd.to_datetime(self.df['start_time_utc'], yearfirst=True, utc=True)\n",
    "        print('Reporter initialized.')\n",
    "        \n",
    "    def create_report_between_times_xlsx(self):\n",
    "        # Localize UTC for datetime filtering\n",
    "        self.df['localized_time'] = self.df['start_time_utc'].map(lambda x: utc_to_local(x))\n",
    "        self.df = self.df.set_index('localized_time')\n",
    "        \n",
    "        # matches = self.df.loc[(self.df['start_time_utc'] > self.start_time) & (self.df['start_time_utc'] < self.end_time)]\n",
    "        matches = self.df.between_time(self.start_time, self.end_time)\n",
    "        return matches\n",
    "        \n",
    "        return 'File {} has been created'.format()\n",
    "    \n",
    "    def __str__(self):\n",
    "        return 'Vericast API matches from '+self.channel.replace('_', ' ').upper()+' between times '+str(self.start_time)+' and '+str(self.end_time)+' UTC.'\n",
    "\n",
    "    def __repr__(self):\n",
    "        return \"<{}: Channel {}>\".format(self.__class__.__name__, self.channel)\n"
   ]
  },
  {
   "cell_type": "code",
   "execution_count": 6,
   "metadata": {},
   "outputs": [
    {
     "name": "stdout",
     "output_type": "stream",
     "text": [
      "Reporter initialized.\n"
     ]
    }
   ],
   "source": [
    "report = VericastMatchReporter(\n",
    "    filename='matches-la_sexta.json', \n",
    "    start_date='2018-01-29', \n",
    "    start_time='12:00:00', \n",
    "    end_date='2018-02-01',\n",
    "    end_time='00:00:00',\n",
    "    tz_offset='+0500'\n",
    ")"
   ]
  },
  {
   "cell_type": "code",
   "execution_count": 7,
   "metadata": {},
   "outputs": [
    {
     "name": "stdout",
     "output_type": "stream",
     "text": [
      "<type 'datetime.datetime'>\n",
      "RangeIndex(start=0, stop=474, step=1)\n"
     ]
    },
    {
     "ename": "AssertionError",
     "evalue": "",
     "output_type": "error",
     "traceback": [
      "\u001b[0;31m---------------------------------------------------------------------------\u001b[0m",
      "\u001b[0;31mAssertionError\u001b[0m                            Traceback (most recent call last)",
      "\u001b[0;32m<ipython-input-7-d9fa93fd59e7>\u001b[0m in \u001b[0;36m<module>\u001b[0;34m()\u001b[0m\n\u001b[1;32m      1\u001b[0m \u001b[0;32mprint\u001b[0m\u001b[0;34m(\u001b[0m\u001b[0mtype\u001b[0m\u001b[0;34m(\u001b[0m\u001b[0mreport\u001b[0m\u001b[0;34m.\u001b[0m\u001b[0mstart_time\u001b[0m\u001b[0;34m)\u001b[0m\u001b[0;34m)\u001b[0m\u001b[0;34m\u001b[0m\u001b[0m\n\u001b[1;32m      2\u001b[0m \u001b[0;32mprint\u001b[0m\u001b[0;34m(\u001b[0m\u001b[0mreport\u001b[0m\u001b[0;34m.\u001b[0m\u001b[0mdf\u001b[0m\u001b[0;34m.\u001b[0m\u001b[0mindex\u001b[0m\u001b[0;34m)\u001b[0m\u001b[0;34m\u001b[0m\u001b[0m\n\u001b[0;32m----> 3\u001b[0;31m \u001b[0mreport\u001b[0m\u001b[0;34m.\u001b[0m\u001b[0mcreate_report_between_times_xlsx\u001b[0m\u001b[0;34m(\u001b[0m\u001b[0;34m)\u001b[0m\u001b[0;34m\u001b[0m\u001b[0m\n\u001b[0m",
      "\u001b[0;32m<ipython-input-5-fdbbf8fb357e>\u001b[0m in \u001b[0;36mcreate_report_between_times_xlsx\u001b[0;34m(self)\u001b[0m\n\u001b[1;32m     43\u001b[0m     \u001b[0;32mdef\u001b[0m \u001b[0mcreate_report_between_times_xlsx\u001b[0m\u001b[0;34m(\u001b[0m\u001b[0mself\u001b[0m\u001b[0;34m)\u001b[0m\u001b[0;34m:\u001b[0m\u001b[0;34m\u001b[0m\u001b[0m\n\u001b[1;32m     44\u001b[0m         \u001b[0;31m# Localize UTC for datetime filtering\u001b[0m\u001b[0;34m\u001b[0m\u001b[0;34m\u001b[0m\u001b[0m\n\u001b[0;32m---> 45\u001b[0;31m         \u001b[0mself\u001b[0m\u001b[0;34m.\u001b[0m\u001b[0mdf\u001b[0m\u001b[0;34m[\u001b[0m\u001b[0;34m'localized_time'\u001b[0m\u001b[0;34m]\u001b[0m \u001b[0;34m=\u001b[0m \u001b[0mself\u001b[0m\u001b[0;34m.\u001b[0m\u001b[0mdf\u001b[0m\u001b[0;34m[\u001b[0m\u001b[0;34m'start_time_utc'\u001b[0m\u001b[0;34m]\u001b[0m\u001b[0;34m.\u001b[0m\u001b[0mmap\u001b[0m\u001b[0;34m(\u001b[0m\u001b[0;32mlambda\u001b[0m \u001b[0mx\u001b[0m\u001b[0;34m:\u001b[0m \u001b[0mutc_to_local\u001b[0m\u001b[0;34m(\u001b[0m\u001b[0mx\u001b[0m\u001b[0;34m)\u001b[0m\u001b[0;34m)\u001b[0m\u001b[0;34m\u001b[0m\u001b[0m\n\u001b[0m\u001b[1;32m     46\u001b[0m         \u001b[0mself\u001b[0m\u001b[0;34m.\u001b[0m\u001b[0mdf\u001b[0m \u001b[0;34m=\u001b[0m \u001b[0mself\u001b[0m\u001b[0;34m.\u001b[0m\u001b[0mdf\u001b[0m\u001b[0;34m.\u001b[0m\u001b[0mset_index\u001b[0m\u001b[0;34m(\u001b[0m\u001b[0;34m'localized_time'\u001b[0m\u001b[0;34m)\u001b[0m\u001b[0;34m\u001b[0m\u001b[0m\n\u001b[1;32m     47\u001b[0m \u001b[0;34m\u001b[0m\u001b[0m\n",
      "\u001b[0;32m/Users/lapdog/anaconda3/envs/bmat/lib/python2.7/site-packages/pandas/core/series.pyc\u001b[0m in \u001b[0;36mmap\u001b[0;34m(self, arg, na_action)\u001b[0m\n\u001b[1;32m   3380\u001b[0m         \"\"\"\n\u001b[1;32m   3381\u001b[0m         new_values = super(Series, self)._map_values(\n\u001b[0;32m-> 3382\u001b[0;31m             arg, na_action=na_action)\n\u001b[0m\u001b[1;32m   3383\u001b[0m         return self._constructor(new_values,\n\u001b[1;32m   3384\u001b[0m                                  index=self.index).__finalize__(self)\n",
      "\u001b[0;32m/Users/lapdog/anaconda3/envs/bmat/lib/python2.7/site-packages/pandas/core/base.pyc\u001b[0m in \u001b[0;36m_map_values\u001b[0;34m(self, mapper, na_action)\u001b[0m\n\u001b[1;32m   1216\u001b[0m \u001b[0;34m\u001b[0m\u001b[0m\n\u001b[1;32m   1217\u001b[0m         \u001b[0;31m# mapper is a function\u001b[0m\u001b[0;34m\u001b[0m\u001b[0;34m\u001b[0m\u001b[0m\n\u001b[0;32m-> 1218\u001b[0;31m         \u001b[0mnew_values\u001b[0m \u001b[0;34m=\u001b[0m \u001b[0mmap_f\u001b[0m\u001b[0;34m(\u001b[0m\u001b[0mvalues\u001b[0m\u001b[0;34m,\u001b[0m \u001b[0mmapper\u001b[0m\u001b[0;34m)\u001b[0m\u001b[0;34m\u001b[0m\u001b[0m\n\u001b[0m\u001b[1;32m   1219\u001b[0m \u001b[0;34m\u001b[0m\u001b[0m\n\u001b[1;32m   1220\u001b[0m         \u001b[0;32mreturn\u001b[0m \u001b[0mnew_values\u001b[0m\u001b[0;34m\u001b[0m\u001b[0m\n",
      "\u001b[0;32m/Users/lapdog/anaconda3/envs/bmat/lib/python2.7/site-packages/pandas/core/base.pyc\u001b[0m in \u001b[0;36m<lambda>\u001b[0;34m(values, f)\u001b[0m\n\u001b[1;32m   1204\u001b[0m             \u001b[0;32mif\u001b[0m \u001b[0mna_action\u001b[0m \u001b[0;32mis\u001b[0m \u001b[0;32mnot\u001b[0m \u001b[0mNone\u001b[0m\u001b[0;34m:\u001b[0m\u001b[0;34m\u001b[0m\u001b[0m\n\u001b[1;32m   1205\u001b[0m                 \u001b[0;32mraise\u001b[0m \u001b[0mNotImplementedError\u001b[0m\u001b[0;34m\u001b[0m\u001b[0m\n\u001b[0;32m-> 1206\u001b[0;31m             \u001b[0mmap_f\u001b[0m \u001b[0;34m=\u001b[0m \u001b[0;32mlambda\u001b[0m \u001b[0mvalues\u001b[0m\u001b[0;34m,\u001b[0m \u001b[0mf\u001b[0m\u001b[0;34m:\u001b[0m \u001b[0mvalues\u001b[0m\u001b[0;34m.\u001b[0m\u001b[0mmap\u001b[0m\u001b[0;34m(\u001b[0m\u001b[0mf\u001b[0m\u001b[0;34m)\u001b[0m\u001b[0;34m\u001b[0m\u001b[0m\n\u001b[0m\u001b[1;32m   1207\u001b[0m         \u001b[0;32melse\u001b[0m\u001b[0;34m:\u001b[0m\u001b[0;34m\u001b[0m\u001b[0m\n\u001b[1;32m   1208\u001b[0m             \u001b[0mvalues\u001b[0m \u001b[0;34m=\u001b[0m \u001b[0mself\u001b[0m\u001b[0;34m.\u001b[0m\u001b[0mastype\u001b[0m\u001b[0;34m(\u001b[0m\u001b[0mobject\u001b[0m\u001b[0;34m)\u001b[0m\u001b[0;34m\u001b[0m\u001b[0m\n",
      "\u001b[0;32m/Users/lapdog/anaconda3/envs/bmat/lib/python2.7/site-packages/pandas/core/arrays/datetimelike.pyc\u001b[0m in \u001b[0;36mmap\u001b[0;34m(self, mapper)\u001b[0m\n\u001b[1;32m    712\u001b[0m         \u001b[0;32mfrom\u001b[0m \u001b[0mpandas\u001b[0m \u001b[0;32mimport\u001b[0m \u001b[0mIndex\u001b[0m\u001b[0;34m\u001b[0m\u001b[0m\n\u001b[1;32m    713\u001b[0m \u001b[0;34m\u001b[0m\u001b[0m\n\u001b[0;32m--> 714\u001b[0;31m         \u001b[0;32mreturn\u001b[0m \u001b[0mIndex\u001b[0m\u001b[0;34m(\u001b[0m\u001b[0mself\u001b[0m\u001b[0;34m)\u001b[0m\u001b[0;34m.\u001b[0m\u001b[0mmap\u001b[0m\u001b[0;34m(\u001b[0m\u001b[0mmapper\u001b[0m\u001b[0;34m)\u001b[0m\u001b[0;34m.\u001b[0m\u001b[0marray\u001b[0m\u001b[0;34m\u001b[0m\u001b[0m\n\u001b[0m\u001b[1;32m    715\u001b[0m \u001b[0;34m\u001b[0m\u001b[0m\n\u001b[1;32m    716\u001b[0m     \u001b[0;31m# ------------------------------------------------------------------\u001b[0m\u001b[0;34m\u001b[0m\u001b[0;34m\u001b[0m\u001b[0m\n",
      "\u001b[0;32m/Users/lapdog/anaconda3/envs/bmat/lib/python2.7/site-packages/pandas/core/indexes/datetimelike.pyc\u001b[0m in \u001b[0;36mmap\u001b[0;34m(self, f)\u001b[0m\n\u001b[1;32m    233\u001b[0m             \u001b[0;32mreturn\u001b[0m \u001b[0mresult\u001b[0m\u001b[0;34m\u001b[0m\u001b[0m\n\u001b[1;32m    234\u001b[0m         \u001b[0;32mexcept\u001b[0m \u001b[0mException\u001b[0m\u001b[0;34m:\u001b[0m\u001b[0;34m\u001b[0m\u001b[0m\n\u001b[0;32m--> 235\u001b[0;31m             \u001b[0;32mreturn\u001b[0m \u001b[0mself\u001b[0m\u001b[0;34m.\u001b[0m\u001b[0mastype\u001b[0m\u001b[0;34m(\u001b[0m\u001b[0mobject\u001b[0m\u001b[0;34m)\u001b[0m\u001b[0;34m.\u001b[0m\u001b[0mmap\u001b[0m\u001b[0;34m(\u001b[0m\u001b[0mf\u001b[0m\u001b[0;34m)\u001b[0m\u001b[0;34m\u001b[0m\u001b[0m\n\u001b[0m\u001b[1;32m    236\u001b[0m \u001b[0;34m\u001b[0m\u001b[0m\n\u001b[1;32m    237\u001b[0m     \u001b[0;32mdef\u001b[0m \u001b[0msort_values\u001b[0m\u001b[0;34m(\u001b[0m\u001b[0mself\u001b[0m\u001b[0;34m,\u001b[0m \u001b[0mreturn_indexer\u001b[0m\u001b[0;34m=\u001b[0m\u001b[0mFalse\u001b[0m\u001b[0;34m,\u001b[0m \u001b[0mascending\u001b[0m\u001b[0;34m=\u001b[0m\u001b[0mTrue\u001b[0m\u001b[0;34m)\u001b[0m\u001b[0;34m:\u001b[0m\u001b[0;34m\u001b[0m\u001b[0m\n",
      "\u001b[0;32m/Users/lapdog/anaconda3/envs/bmat/lib/python2.7/site-packages/pandas/core/indexes/base.pyc\u001b[0m in \u001b[0;36mmap\u001b[0;34m(self, mapper, na_action)\u001b[0m\n\u001b[1;32m   4516\u001b[0m         \u001b[0;32mfrom\u001b[0m \u001b[0;34m.\u001b[0m\u001b[0mmulti\u001b[0m \u001b[0;32mimport\u001b[0m \u001b[0mMultiIndex\u001b[0m\u001b[0;34m\u001b[0m\u001b[0m\n\u001b[1;32m   4517\u001b[0m         new_values = super(Index, self)._map_values(\n\u001b[0;32m-> 4518\u001b[0;31m             mapper, na_action=na_action)\n\u001b[0m\u001b[1;32m   4519\u001b[0m \u001b[0;34m\u001b[0m\u001b[0m\n\u001b[1;32m   4520\u001b[0m         \u001b[0mattributes\u001b[0m \u001b[0;34m=\u001b[0m \u001b[0mself\u001b[0m\u001b[0;34m.\u001b[0m\u001b[0m_get_attributes_dict\u001b[0m\u001b[0;34m(\u001b[0m\u001b[0;34m)\u001b[0m\u001b[0;34m\u001b[0m\u001b[0m\n",
      "\u001b[0;32m/Users/lapdog/anaconda3/envs/bmat/lib/python2.7/site-packages/pandas/core/base.pyc\u001b[0m in \u001b[0;36m_map_values\u001b[0;34m(self, mapper, na_action)\u001b[0m\n\u001b[1;32m   1216\u001b[0m \u001b[0;34m\u001b[0m\u001b[0m\n\u001b[1;32m   1217\u001b[0m         \u001b[0;31m# mapper is a function\u001b[0m\u001b[0;34m\u001b[0m\u001b[0;34m\u001b[0m\u001b[0m\n\u001b[0;32m-> 1218\u001b[0;31m         \u001b[0mnew_values\u001b[0m \u001b[0;34m=\u001b[0m \u001b[0mmap_f\u001b[0m\u001b[0;34m(\u001b[0m\u001b[0mvalues\u001b[0m\u001b[0;34m,\u001b[0m \u001b[0mmapper\u001b[0m\u001b[0;34m)\u001b[0m\u001b[0;34m\u001b[0m\u001b[0m\n\u001b[0m\u001b[1;32m   1219\u001b[0m \u001b[0;34m\u001b[0m\u001b[0m\n\u001b[1;32m   1220\u001b[0m         \u001b[0;32mreturn\u001b[0m \u001b[0mnew_values\u001b[0m\u001b[0;34m\u001b[0m\u001b[0m\n",
      "\u001b[0;32mpandas/_libs/lib.pyx\u001b[0m in \u001b[0;36mpandas._libs.lib.map_infer\u001b[0;34m()\u001b[0m\n",
      "\u001b[0;32m<ipython-input-5-fdbbf8fb357e>\u001b[0m in \u001b[0;36m<lambda>\u001b[0;34m(x)\u001b[0m\n\u001b[1;32m     43\u001b[0m     \u001b[0;32mdef\u001b[0m \u001b[0mcreate_report_between_times_xlsx\u001b[0m\u001b[0;34m(\u001b[0m\u001b[0mself\u001b[0m\u001b[0;34m)\u001b[0m\u001b[0;34m:\u001b[0m\u001b[0;34m\u001b[0m\u001b[0m\n\u001b[1;32m     44\u001b[0m         \u001b[0;31m# Localize UTC for datetime filtering\u001b[0m\u001b[0;34m\u001b[0m\u001b[0;34m\u001b[0m\u001b[0m\n\u001b[0;32m---> 45\u001b[0;31m         \u001b[0mself\u001b[0m\u001b[0;34m.\u001b[0m\u001b[0mdf\u001b[0m\u001b[0;34m[\u001b[0m\u001b[0;34m'localized_time'\u001b[0m\u001b[0;34m]\u001b[0m \u001b[0;34m=\u001b[0m \u001b[0mself\u001b[0m\u001b[0;34m.\u001b[0m\u001b[0mdf\u001b[0m\u001b[0;34m[\u001b[0m\u001b[0;34m'start_time_utc'\u001b[0m\u001b[0;34m]\u001b[0m\u001b[0;34m.\u001b[0m\u001b[0mmap\u001b[0m\u001b[0;34m(\u001b[0m\u001b[0;32mlambda\u001b[0m \u001b[0mx\u001b[0m\u001b[0;34m:\u001b[0m \u001b[0mutc_to_local\u001b[0m\u001b[0;34m(\u001b[0m\u001b[0mx\u001b[0m\u001b[0;34m)\u001b[0m\u001b[0;34m)\u001b[0m\u001b[0;34m\u001b[0m\u001b[0m\n\u001b[0m\u001b[1;32m     46\u001b[0m         \u001b[0mself\u001b[0m\u001b[0;34m.\u001b[0m\u001b[0mdf\u001b[0m \u001b[0;34m=\u001b[0m \u001b[0mself\u001b[0m\u001b[0;34m.\u001b[0m\u001b[0mdf\u001b[0m\u001b[0;34m.\u001b[0m\u001b[0mset_index\u001b[0m\u001b[0;34m(\u001b[0m\u001b[0;34m'localized_time'\u001b[0m\u001b[0;34m)\u001b[0m\u001b[0;34m\u001b[0m\u001b[0m\n\u001b[1;32m     47\u001b[0m \u001b[0;34m\u001b[0m\u001b[0m\n",
      "\u001b[0;32m<ipython-input-2-7b5c0a53d74a>\u001b[0m in \u001b[0;36mutc_to_local\u001b[0;34m(utc_dt)\u001b[0m\n\u001b[1;32m      7\u001b[0m     \u001b[0mtimestamp\u001b[0m \u001b[0;34m=\u001b[0m \u001b[0mcalendar\u001b[0m\u001b[0;34m.\u001b[0m\u001b[0mtimegm\u001b[0m\u001b[0;34m(\u001b[0m\u001b[0mutc_dt\u001b[0m\u001b[0;34m.\u001b[0m\u001b[0mtimetuple\u001b[0m\u001b[0;34m(\u001b[0m\u001b[0;34m)\u001b[0m\u001b[0;34m)\u001b[0m\u001b[0;34m\u001b[0m\u001b[0m\n\u001b[1;32m      8\u001b[0m     \u001b[0mlocal_dt\u001b[0m \u001b[0;34m=\u001b[0m \u001b[0mdatetime\u001b[0m\u001b[0;34m.\u001b[0m\u001b[0mdatetime\u001b[0m\u001b[0;34m.\u001b[0m\u001b[0mfromtimestamp\u001b[0m\u001b[0;34m(\u001b[0m\u001b[0mtimestamp\u001b[0m\u001b[0;34m)\u001b[0m\u001b[0;34m\u001b[0m\u001b[0m\n\u001b[0;32m----> 9\u001b[0;31m     \u001b[0;32massert\u001b[0m \u001b[0mutc_dt\u001b[0m\u001b[0;34m.\u001b[0m\u001b[0mresolution\u001b[0m \u001b[0;34m>=\u001b[0m \u001b[0mdatetime\u001b[0m\u001b[0;34m.\u001b[0m\u001b[0mtimedelta\u001b[0m\u001b[0;34m(\u001b[0m\u001b[0mmicroseconds\u001b[0m\u001b[0;34m=\u001b[0m\u001b[0;36m1\u001b[0m\u001b[0;34m)\u001b[0m\u001b[0;34m\u001b[0m\u001b[0m\n\u001b[0m\u001b[1;32m     10\u001b[0m     \u001b[0;32mreturn\u001b[0m \u001b[0mlocal_dt\u001b[0m\u001b[0;34m.\u001b[0m\u001b[0mreplace\u001b[0m\u001b[0;34m(\u001b[0m\u001b[0mmicrosecond\u001b[0m\u001b[0;34m=\u001b[0m\u001b[0mutc_dt\u001b[0m\u001b[0;34m.\u001b[0m\u001b[0mmicrosecond\u001b[0m\u001b[0;34m)\u001b[0m\u001b[0;34m\u001b[0m\u001b[0m\n",
      "\u001b[0;31mAssertionError\u001b[0m: "
     ]
    }
   ],
   "source": [
    "print(type(report.start_time))\n",
    "print(report.df.index)\n",
    "report.create_report_between_times_xlsx()"
   ]
  },
  {
   "cell_type": "code",
   "execution_count": null,
   "metadata": {},
   "outputs": [],
   "source": [
    "df['start_time_utc']).map(\n",
    "        lambda x: datetime.datetime.strptime(x, '%Y-%m-%d %H:%M')\n",
    "    )"
   ]
  },
  {
   "cell_type": "code",
   "execution_count": null,
   "metadata": {},
   "outputs": [],
   "source": [
    "report_df = df.where((df.start_time_utc >= date) & (df.start_time_utc <= date2))"
   ]
  },
  {
   "cell_type": "code",
   "execution_count": null,
   "metadata": {},
   "outputs": [],
   "source": [
    "\n",
    "df.start_time_utc.between_time()"
   ]
  },
  {
   "cell_type": "code",
   "execution_count": null,
   "metadata": {},
   "outputs": [],
   "source": [
    "i = pd.date_range('2018-04-09', periods=4, freq='1D20min')\n",
    "\n",
    "ts = pd.DataFrame({'A': [1, 2, 3, 4]}, index=i)\n",
    "\n",
    "ts"
   ]
  },
  {
   "cell_type": "code",
   "execution_count": null,
   "metadata": {},
   "outputs": [],
   "source": [
    "ts.between_time('0:15', '0:45')"
   ]
  },
  {
   "cell_type": "code",
   "execution_count": null,
   "metadata": {},
   "outputs": [],
   "source": [
    "i"
   ]
  },
  {
   "cell_type": "code",
   "execution_count": null,
   "metadata": {},
   "outputs": [],
   "source": [
    "start_time = '2018-02-15 21:22:12+00:00'\n",
    "#end_time = datetime.datetime.strptime('2018-02-16 07:28:59+00:00', '')\n",
    "end_time = '2018-02-16 07:28:59+00:00'\n",
    "df['start_time_utc']   #.astype(str).between_time(start_time, end_time)\n"
   ]
  },
  {
   "cell_type": "code",
   "execution_count": null,
   "metadata": {},
   "outputs": [],
   "source": [
    "df.head(1)"
   ]
  },
  {
   "cell_type": "code",
   "execution_count": null,
   "metadata": {},
   "outputs": [],
   "source": []
  }
 ],
 "metadata": {
  "kernelspec": {
   "display_name": "Django Shell-Plus",
   "language": "python",
   "name": "django_extensions"
  },
  "language_info": {
   "codemirror_mode": {
    "name": "ipython",
    "version": 2
   },
   "file_extension": ".py",
   "mimetype": "text/x-python",
   "name": "python",
   "nbconvert_exporter": "python",
   "pygments_lexer": "ipython2",
   "version": "2.7.17"
  }
 },
 "nbformat": 4,
 "nbformat_minor": 2
}
