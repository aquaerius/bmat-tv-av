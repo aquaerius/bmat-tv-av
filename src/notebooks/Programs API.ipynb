{
 "cells": [
  {
   "cell_type": "markdown",
   "metadata": {},
   "source": [
    "# **TV Programs**\n",
    "\n",
    "For a list of methods for this resource, see the end of this page.\n",
    "## Resource representations\n",
    "\n",
    "The metadata for a program."
   ]
  },
  {
   "cell_type": "markdown",
   "metadata": {},
   "source": [
    "```python\n",
    "{\n",
    "  \"id\": string,\n",
    "  \"original_title\": string,\n",
    "  \"local_title\": string,\n",
    "  \"year\": string,\n",
    "  \"start_date\": string,\n",
    "  \"start_time\": string,\n",
    "  \"duration_in_seconds\": string,\n",
    "  \"channel\": {\n",
    "    \"id\": string,\n",
    "    \"name\": string,\n",
    "    \"country\": string\n",
    "  }\n",
    "}\n",
    "```"
   ]
  },
  {
   "cell_type": "code",
   "execution_count": null,
   "metadata": {},
   "outputs": [],
   "source": [
    "! python -V\n",
    "! python -m django --version\n",
    "! ls ."
   ]
  },
  {
   "cell_type": "code",
   "execution_count": null,
   "metadata": {},
   "outputs": [],
   "source": [
    "import os\n",
    "os.chdir('../')"
   ]
  },
  {
   "cell_type": "code",
   "execution_count": null,
   "metadata": {},
   "outputs": [],
   "source": [
    "! ./manage.py makemigrations\n",
    "# ! ./manage.py migrate tv zero\n",
    "! ./manage.py migrate --run-syncdb"
   ]
  },
  {
   "cell_type": "code",
   "execution_count": null,
   "metadata": {},
   "outputs": [],
   "source": [
    "import io\n",
    "from tv.models import Channel, Program, Showtime\n",
    "from tv.serializers import ChannelSerializer, ProgramSerializer, ShowtimeSerializer\n",
    "from rest_framework.renderers import JSONRenderer\n",
    "from rest_framework.parsers import JSONParser"
   ]
  },
  {
   "cell_type": "code",
   "execution_count": null,
   "metadata": {},
   "outputs": [],
   "source": [
    "channel = Channel.objects.get(pk=1)\n",
    "channel.get_country_code_display()"
   ]
  },
  {
   "cell_type": "code",
   "execution_count": null,
   "metadata": {
    "scrolled": true
   },
   "outputs": [],
   "source": [
    "channel = Channel.objects.get(pk=1)\n",
    "print(type(channel.name))\n",
    "print(type(channel.id))\n",
    "print(type(channel.country_code))\n",
    "# For hyperlinked serializers\n",
    "# serializer = ChannelSerializer(channel, context={'request': request})\n",
    "serializer = ChannelSerializer(channel)\n",
    "print(serializer.data)\n",
    "content = JSONRenderer().render(serializer.data)\n",
    "print(content)\n",
    "stream = io.BytesIO(content)\n",
    "data = JSONParser().parse(stream)\n",
    "print(data)"
   ]
  },
  {
   "cell_type": "code",
   "execution_count": null,
   "metadata": {},
   "outputs": [],
   "source": [
    "serializer = ChannelSerializer(data=data)\n",
    "print(type(data[\"country\"]))\n",
    "print(type(data[\"uid\"]))\n",
    "print(type(data[\"name\"]))\n",
    "serializer.is_valid()"
   ]
  },
  {
   "cell_type": "markdown",
   "metadata": {},
   "source": [
    "## Program serializers"
   ]
  },
  {
   "cell_type": "code",
   "execution_count": null,
   "metadata": {},
   "outputs": [],
   "source": [
    "channel = ChannelSerializer(channel)\n",
    "program = Program.objects.get(pk=441)\n",
    "print(type(program.local_title))\n",
    "print(type(program.uid))\n",
    "print(type(program.channel))\n",
    "# For hyperlinked serializers\n",
    "# serializer = ChannelSerializer(channel, context={'request': request})\n",
    "serializer = ProgramSerializer(program)\n",
    "serializer.data\n"
   ]
  },
  {
   "cell_type": "code",
   "execution_count": null,
   "metadata": {},
   "outputs": [],
   "source": [
    "content = JSONRenderer().render(serializer.data)\n",
    "content"
   ]
  },
  {
   "cell_type": "code",
   "execution_count": null,
   "metadata": {},
   "outputs": [],
   "source": [
    "import io\n",
    "\n",
    "stream = io.BytesIO(content)\n",
    "data = JSONParser().parse(stream)\n",
    "data['uid']=99999"
   ]
  },
  {
   "cell_type": "code",
   "execution_count": null,
   "metadata": {},
   "outputs": [],
   "source": [
    "serializer = ProgramSerializer(data=data)\n",
    "serializer.is_valid()"
   ]
  },
  {
   "cell_type": "code",
   "execution_count": null,
   "metadata": {},
   "outputs": [],
   "source": [
    "program = Program.objects.get(pk=441)\n",
    "showtime = Showtime.objects.get(pk=1)\n",
    "print(type(showtime.program))\n",
    "print(type(showtime.start_time))\n",
    "# For hyperlinked serializers\n",
    "# serializer = ChannelSerializer(channel, context={'request': request})\n",
    "serializer = ShowtimeSerializer(showtime)\n",
    "print(serializer.data)\n",
    "content = JSONRenderer().render(serializer.data)\n",
    "print(content)\n",
    "stream = io.BytesIO(content)\n",
    "data = JSONParser().parse(stream)\n",
    "data['program']['uid']=99999\n",
    "print(data)"
   ]
  },
  {
   "cell_type": "code",
   "execution_count": null,
   "metadata": {},
   "outputs": [],
   "source": [
    "serializer = ShowtimeSerializer(data=data)\n",
    "serializer.is_valid()\n",
    "serializer.errors"
   ]
  },
  {
   "cell_type": "code",
   "execution_count": null,
   "metadata": {},
   "outputs": [],
   "source": [
    "{\n",
    "    \"program\": {\n",
    "        \"uid\": 6174211,\n",
    "        \"original_title\": \"Minutos musicales\",\n",
    "        \"local_title\": \"Minutos musicales\",\n",
    "        \"year\": \"2019\",\n",
    "        \"channel\": {\n",
    "            \"uid\": 729036190,\n",
    "            \"name\": \"La Sexta\",\n",
    "            \"country\": \"Spain\"\n",
    "        }\n",
    "    }\n",
    "}"
   ]
  }
 ],
 "metadata": {
  "kernelspec": {
   "display_name": "Django Shell-Plus",
   "language": "python",
   "name": "django_extensions"
  },
  "language_info": {
   "codemirror_mode": {
    "name": "ipython",
    "version": 2
   },
   "file_extension": ".py",
   "mimetype": "text/x-python",
   "name": "python",
   "nbconvert_exporter": "python",
   "pygments_lexer": "ipython2",
   "version": "2.7.17"
  }
 },
 "nbformat": 4,
 "nbformat_minor": 2
}
