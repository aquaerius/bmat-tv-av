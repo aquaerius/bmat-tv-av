{
 "cells": [
  {
   "cell_type": "markdown",
   "metadata": {},
   "source": [
    "# **TV Programs**\n",
    "\n",
    "For a list of methods for this resource, see the end of this page.\n",
    "## Resource representations\n",
    "\n",
    "The metadata for a program."
   ]
  },
  {
   "cell_type": "markdown",
   "metadata": {},
   "source": [
    "```python\n",
    "{\n",
    "  \"id\": string,\n",
    "  \"original_title\": string,\n",
    "  \"local_title\": string,\n",
    "  \"year\": string,\n",
    "  \"start_date\": string,\n",
    "  \"start_time\": string,\n",
    "  \"duration_in_seconds\": string,\n",
    "  \"channel\": {\n",
    "    \"id\": string,\n",
    "    \"name\": string,\n",
    "    \"country\": string\n",
    "  }\n",
    "}\n",
    "```"
   ]
  },
  {
   "cell_type": "code",
   "execution_count": 1,
   "metadata": {},
   "outputs": [
    {
     "name": "stdout",
     "output_type": "stream",
     "text": [
      "Python 2.7.17 :: Anaconda, Inc.\n",
      "1.11.28\n",
      "Programs API.ipynb      upload_from_csv.py      vericast_reports.py\n",
      "__init__.py             upload_from_csv.pyc\n",
      "__init__.pyc            uploading_epg_csv.ipynb\n"
     ]
    }
   ],
   "source": [
    "! python -V\n",
    "! python -m django --version\n",
    "! ls ."
   ]
  },
  {
   "cell_type": "code",
   "execution_count": 2,
   "metadata": {},
   "outputs": [],
   "source": [
    "import os\n",
    "os.chdir('../')"
   ]
  },
  {
   "cell_type": "code",
   "execution_count": 3,
   "metadata": {},
   "outputs": [
    {
     "name": "stdout",
     "output_type": "stream",
     "text": [
      "No changes detected\n",
      "\u001b[36;1mOperations to perform:\u001b[0m\n",
      "\u001b[1m  Synchronize unmigrated apps: \u001b[0mcore, crispy_forms, debug_toolbar, django_extensions, messages, rest_framework, staticfiles\n",
      "\u001b[1m  Apply all migrations: \u001b[0madmin, auth, contenttypes, sessions, tv\n",
      "\u001b[36;1mSynchronizing apps without migrations:\u001b[0m\n",
      "  Creating tables...\n",
      "    Running deferred SQL...\n",
      "\u001b[36;1mRunning migrations:\u001b[0m\n",
      "  No migrations to apply.\n"
     ]
    }
   ],
   "source": [
    "! ./manage.py makemigrations\n",
    "# ! ./manage.py migrate tv zero\n",
    "! ./manage.py migrate --run-syncdb"
   ]
  },
  {
   "cell_type": "code",
   "execution_count": 4,
   "metadata": {},
   "outputs": [],
   "source": [
    "import io\n",
    "from tv.models import Channel, Program, Showtime\n",
    "from tv.serializers import ChannelSerializer, ProgramSerializer, ShowtimeSerializer\n",
    "from rest_framework.renderers import JSONRenderer\n",
    "from rest_framework.parsers import JSONParser"
   ]
  },
  {
   "cell_type": "code",
   "execution_count": 5,
   "metadata": {},
   "outputs": [
    {
     "data": {
      "text/plain": [
       "u'France'"
      ]
     },
     "execution_count": 5,
     "metadata": {},
     "output_type": "execute_result"
    }
   ],
   "source": [
    "channel = Channel.objects.get(pk=1)\n",
    "channel.get_country_code_display()"
   ]
  },
  {
   "cell_type": "code",
   "execution_count": 6,
   "metadata": {},
   "outputs": [
    {
     "name": "stdout",
     "output_type": "stream",
     "text": [
      "<type 'unicode'>\n",
      "<type 'int'>\n",
      "<type 'unicode'>\n",
      "{'country': u'France', 'uid': 384303590, 'name': u'HD1 (France)'}\n",
      "{\"uid\":384303590,\"name\":\"HD1 (France)\",\"country\":\"France\"}\n",
      "{u'country': u'France', u'uid': 384303590, u'name': u'HD1 (France)'}\n"
     ]
    }
   ],
   "source": [
    "channel = Channel.objects.get(pk=1)\n",
    "print(type(channel.name))\n",
    "print(type(channel.id))\n",
    "print(type(channel.country_code))\n",
    "# For hyperlinked serializers\n",
    "# serializer = ChannelSerializer(channel, context={'request': request})\n",
    "serializer = ChannelSerializer(channel)\n",
    "print(serializer.data)\n",
    "content = JSONRenderer().render(serializer.data)\n",
    "print(content)\n",
    "stream = io.BytesIO(content)\n",
    "data = JSONParser().parse(stream)\n",
    "print(data)"
   ]
  },
  {
   "cell_type": "code",
   "execution_count": 7,
   "metadata": {},
   "outputs": [
    {
     "name": "stdout",
     "output_type": "stream",
     "text": [
      "<type 'unicode'>\n",
      "<type 'int'>\n",
      "<type 'unicode'>\n"
     ]
    },
    {
     "data": {
      "text/plain": [
       "True"
      ]
     },
     "execution_count": 7,
     "metadata": {},
     "output_type": "execute_result"
    }
   ],
   "source": [
    "serializer = ChannelSerializer(data=data)\n",
    "print(type(data[\"country\"]))\n",
    "print(type(data[\"uid\"]))\n",
    "print(type(data[\"name\"]))\n",
    "serializer.is_valid()"
   ]
  },
  {
   "cell_type": "markdown",
   "metadata": {},
   "source": [
    "## Program serializers"
   ]
  },
  {
   "cell_type": "code",
   "execution_count": 8,
   "metadata": {},
   "outputs": [
    {
     "name": "stdout",
     "output_type": "stream",
     "text": [
      "<type 'unicode'>\n",
      "<type 'int'>\n",
      "<class 'tv.models.Channel'>\n"
     ]
    },
    {
     "data": {
      "text/plain": [
       "{u'year': u'2017', u'original_title': u'David Bowie: The Last Five Years', u'uid': 4413966562, u'channel': OrderedDict([('uid', 69036687), ('name', u'RTE 1'), ('country', u'Ireland')]), u'local_title': u'David Bowie: The Last Five Years'}"
      ]
     },
     "execution_count": 8,
     "metadata": {},
     "output_type": "execute_result"
    }
   ],
   "source": [
    "channel = ChannelSerializer(channel)\n",
    "program = Program.objects.get(pk=441)\n",
    "print(type(program.local_title))\n",
    "print(type(program.uid))\n",
    "print(type(program.channel))\n",
    "# For hyperlinked serializers\n",
    "# serializer = ChannelSerializer(channel, context={'request': request})\n",
    "serializer = ProgramSerializer(program)\n",
    "serializer.data\n"
   ]
  },
  {
   "cell_type": "code",
   "execution_count": 9,
   "metadata": {},
   "outputs": [
    {
     "data": {
      "text/plain": [
       "'{\"uid\":4413966562,\"original_title\":\"David Bowie: The Last Five Years\",\"local_title\":\"David Bowie: The Last Five Years\",\"year\":\"2017\",\"channel\":{\"uid\":69036687,\"name\":\"RTE 1\",\"country\":\"Ireland\"}}'"
      ]
     },
     "execution_count": 9,
     "metadata": {},
     "output_type": "execute_result"
    }
   ],
   "source": [
    "content = JSONRenderer().render(serializer.data)\n",
    "content"
   ]
  },
  {
   "cell_type": "code",
   "execution_count": 10,
   "metadata": {},
   "outputs": [],
   "source": [
    "import io\n",
    "\n",
    "stream = io.BytesIO(content)\n",
    "data = JSONParser().parse(stream)\n",
    "data['uid']=99999"
   ]
  },
  {
   "cell_type": "code",
   "execution_count": 11,
   "metadata": {},
   "outputs": [
    {
     "data": {
      "text/plain": [
       "True"
      ]
     },
     "execution_count": 11,
     "metadata": {},
     "output_type": "execute_result"
    }
   ],
   "source": [
    "serializer = ProgramSerializer(data=data)\n",
    "serializer.is_valid()"
   ]
  },
  {
   "cell_type": "code",
   "execution_count": 12,
   "metadata": {},
   "outputs": [
    {
     "name": "stdout",
     "output_type": "stream",
     "text": [
      "<class 'tv.models.Program'>\n",
      "<type 'datetime.datetime'>\n",
      "{u'duration': 84000.0, u'start_time': '00:00', u'program': OrderedDict([(u'uid', 461044), (u'original_title', u'\\xc0 communiquer'), (u'local_title', u'\\xc0 communiquer'), (u'year', u'n/a'), (u'channel', OrderedDict([('uid', 384303590), ('name', u'HD1 (France)'), ('country', u'France')]))]), u'start_date': '2018-01-01'}\n",
      "{\"program\":{\"uid\":461044,\"original_title\":\"À communiquer\",\"local_title\":\"À communiquer\",\"year\":\"n/a\",\"channel\":{\"uid\":384303590,\"name\":\"HD1 (France)\",\"country\":\"France\"}},\"start_date\":\"2018-01-01\",\"start_time\":\"00:00\",\"duration\":84000.0}\n",
      "{u'duration': 84000.0, u'start_time': u'00:00', u'program': {u'year': u'n/a', u'original_title': u'\\xc0 communiquer', u'uid': 99999, u'channel': {u'country': u'France', u'uid': 384303590, u'name': u'HD1 (France)'}, u'local_title': u'\\xc0 communiquer'}, u'start_date': u'2018-01-01'}\n"
     ]
    }
   ],
   "source": [
    "program = Program.objects.get(pk=441)\n",
    "showtime = Showtime.objects.get(pk=1)\n",
    "print(type(showtime.program))\n",
    "print(type(showtime.start_time))\n",
    "# For hyperlinked serializers\n",
    "# serializer = ChannelSerializer(channel, context={'request': request})\n",
    "serializer = ShowtimeSerializer(showtime)\n",
    "print(serializer.data)\n",
    "content = JSONRenderer().render(serializer.data)\n",
    "print(content)\n",
    "stream = io.BytesIO(content)\n",
    "data = JSONParser().parse(stream)\n",
    "data['program']['uid']=99999\n",
    "print(data)"
   ]
  },
  {
   "cell_type": "code",
   "execution_count": 13,
   "metadata": {},
   "outputs": [
    {
     "data": {
      "text/plain": [
       "{}"
      ]
     },
     "execution_count": 13,
     "metadata": {},
     "output_type": "execute_result"
    }
   ],
   "source": [
    "serializer = ShowtimeSerializer(data=data)\n",
    "serializer.is_valid()\n",
    "serializer.errors"
   ]
  },
  {
   "cell_type": "code",
   "execution_count": 18,
   "metadata": {},
   "outputs": [
    {
     "name": "stdout",
     "output_type": "stream",
     "text": [
      "{\r\n",
      "    \"program\": {\r\n",
      "        \"uid\": 11742116,\r\n",
      "        \"original_title\": \"Minutos musicales\",\r\n",
      "        \"local_title\": \"Minutos musicales\",\r\n",
      "        \"year\": \"n/a\",\r\n",
      "        \"channel\": {\r\n",
      "            \"uid\": 69036190,\r\n",
      "            \"name\": \"La Sexta\",\r\n",
      "            \"country\": \"Spain\"\r\n",
      "        }\r\n",
      "    },\r\n",
      "    \"start_date\": \"2018-01-15\",\r\n",
      "    \"start_time\": \"05:00\",\r\n",
      "    \"duration\": 5400.0\r\n",
      "}"
     ]
    }
   ],
   "source": [
    "! curl -H 'Accept: application/json; indent=4' -u operations:1comando http://www.bmatapis.com:8000/tv/v1/programs/1134/?format=json"
   ]
  },
  {
   "cell_type": "code",
   "execution_count": null,
   "metadata": {},
   "outputs": [],
   "source": [
    "{\n",
    "    \"program\": {\n",
    "        \"uid\": 6174211,\n",
    "        \"original_title\": \"Minutos musicales\",\n",
    "        \"local_title\": \"Minutos musicales\",\n",
    "        \"year\": \"2019\",\n",
    "        \"channel\": {\n",
    "            \"uid\": 729036190,\n",
    "            \"name\": \"La Sexta\",\n",
    "            \"country\": \"Spain\"\n",
    "        }\n",
    "    }\n",
    "}"
   ]
  }
 ],
 "metadata": {
  "kernelspec": {
   "display_name": "Django Shell-Plus",
   "language": "python",
   "name": "django_extensions"
  },
  "language_info": {
   "codemirror_mode": {
    "name": "ipython",
    "version": 2
   },
   "file_extension": ".py",
   "mimetype": "text/x-python",
   "name": "python",
   "nbconvert_exporter": "python",
   "pygments_lexer": "ipython2",
   "version": "2.7.17"
  }
 },
 "nbformat": 4,
 "nbformat_minor": 2
}
