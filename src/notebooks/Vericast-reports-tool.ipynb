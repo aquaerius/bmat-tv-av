{
 "cells": [
  {
   "cell_type": "code",
   "execution_count": 1,
   "metadata": {},
   "outputs": [
    {
     "name": "stdout",
     "output_type": "stream",
     "text": [
      "Python 2.7.17\n",
      " __init__.py\t       upload_from_csv.py\t vericast_reports.py\n",
      "'Programs API.ipynb'   uploading_epg_csv.ipynb\t Vericast-reports-tool.ipynb\n"
     ]
    }
   ],
   "source": [
    "! python -V\n",
    "! ls ."
   ]
  },
  {
   "cell_type": "code",
   "execution_count": 2,
   "metadata": {},
   "outputs": [],
   "source": [
    "import os\n",
    "import json\n",
    "import pandas as pd\n",
    "import datetime\n",
    "import dateutil.parser\n",
    "         \n",
    "\n",
    "# Change directory to filesdir\n",
    "os.chdir('../../data/')\n",
    "class VericastMatchReporter:\n",
    "    \"\"\"\n",
    "    @params: filename, start_date, start_time, end_date, end_time, time_zone\n",
    "    \"\"\"\n",
    "    filename = None\n",
    "    channel = None\n",
    "    report_name = 'vericast-api-matches'\n",
    "    report_file_extension = 'xslx'\n",
    "    df = pd.DataFrame(columns=['title','length','album','artist','start_time_utc'])\n",
    "    matches_between_dates = None\n",
    "    start_time = None\n",
    "    end_time = None\n",
    "    dfeng = None\n",
    "    \n",
    "    \n",
    "    def __init__(self, **kwargs):\n",
    "        \"\"\"Initilize report, make a pandas dataframe with the matches.\"\"\"\n",
    "        \n",
    "        self.filename = kwargs['filename']\n",
    "        self.channel = self.filename.split('/')[-1].split('-')[-1].split('.')[0]\n",
    "        self.report_name += '-' + self.channel \n",
    "        try:\n",
    "            # Make a df with engineer's times and bring them to UTC for correct comparison\n",
    "            start_time_naive = dateutil.parser.parse(kwargs['start_date']+'T'+kwargs['start_time'])\n",
    "            end_time_naive = dateutil.parser.parse(kwargs['end_date']+'T'+kwargs['end_time'])\n",
    "            dfeng = pd.DataFrame({'naive_datetime':[start_time_naive,end_time_naive]}, index=['filter_start','filter_end'])\n",
    "            dfeng['local_datetime'] = pd.DatetimeIndex(dfeng['naive_datetime']).tz_localize(tz =kwargs['time_zone'])\n",
    "            dfeng['utc_datetime'] = pd.DatetimeIndex(dfeng['local_datetime']).tz_convert(tz ='UTC')\n",
    "            self.dfeng = dfeng\n",
    "        except:\n",
    "            raise\n",
    "        with open(self.filename) as f:\n",
    "            for line in f.readlines():\n",
    "                # Append line into df\n",
    "                self.df = self.df.append(json.loads(line), ignore_index=True)\n",
    "                \n",
    "        # Cast dates as aware datetime with timezone 'UTC'\n",
    "        self.df['start_time_utc'] = pd.to_datetime(self.df['start_time_utc'], yearfirst=True, utc=True)\n",
    "        print('Reporter initialized.')\n",
    "        \n",
    "    def create_report_between_times_xlsx(self):\n",
    "        # Localize UTC for datetime filtering\n",
    "        self.df = self.df.set_index('start_time_utc')\n",
    "        # TODO create the matches\n",
    "        # matches = self.df.loc[(self.df['start_time_utc'] > self.start_time) & (self.df['start_time_utc'] < self.end_time)]\n",
    "        # matches = self.df.between_time(self.start_time, self.end_time)\n",
    "        print('File {} with {} matches has been created.'.format(self.report_name, self.matches_between_dates.count()))\n",
    "        return self.matches_between_dates\n",
    "    \n",
    "    def __str__(self):\n",
    "        return 'Vericast API matches from '+self.channel.replace('_', ' ').upper()+' between times '+str(self.start_time)+' and '+str(self.end_time)+' UTC.'\n",
    "\n",
    "    def __repr__(self):\n",
    "        return \"<{}: Channel {}>\".format(self.__class__.__name__, self.channel)"
   ]
  },
  {
   "cell_type": "code",
   "execution_count": 10,
   "metadata": {},
   "outputs": [
    {
     "name": "stdout",
     "output_type": "stream",
     "text": [
      "Reporter initialized.\n"
     ]
    }
   ],
   "source": [
    "# Create a reporter instance with engineer's data\n",
    "report = VericastMatchReporter(\n",
    "    filename='matches-la_sexta.json', \n",
    "    start_date='2018-01-29', \n",
    "    start_time='12:00', \n",
    "    end_date='2018-02-01',\n",
    "    end_time='00:00',\n",
    "    time_zone='Europe/Madrid'\n",
    ")"
   ]
  },
  {
   "cell_type": "code",
   "execution_count": 16,
   "metadata": {},
   "outputs": [
    {
     "data": {
      "text/html": [
       "<div>\n",
       "<style scoped>\n",
       "    .dataframe tbody tr th:only-of-type {\n",
       "        vertical-align: middle;\n",
       "    }\n",
       "\n",
       "    .dataframe tbody tr th {\n",
       "        vertical-align: top;\n",
       "    }\n",
       "\n",
       "    .dataframe thead th {\n",
       "        text-align: right;\n",
       "    }\n",
       "</style>\n",
       "<table border=\"1\" class=\"dataframe\">\n",
       "  <thead>\n",
       "    <tr style=\"text-align: right;\">\n",
       "      <th></th>\n",
       "      <th>naive_datetime</th>\n",
       "      <th>local_datetime</th>\n",
       "      <th>utc_datetime</th>\n",
       "    </tr>\n",
       "  </thead>\n",
       "  <tbody>\n",
       "    <tr>\n",
       "      <th>filter_start</th>\n",
       "      <td>2018-01-29 12:00:00</td>\n",
       "      <td>2018-01-29 12:00:00+01:00</td>\n",
       "      <td>2018-01-29 11:00:00+00:00</td>\n",
       "    </tr>\n",
       "    <tr>\n",
       "      <th>filter_end</th>\n",
       "      <td>2018-02-01 00:00:00</td>\n",
       "      <td>2018-02-01 00:00:00+01:00</td>\n",
       "      <td>2018-01-31 23:00:00+00:00</td>\n",
       "    </tr>\n",
       "  </tbody>\n",
       "</table>\n",
       "</div>"
      ],
      "text/plain": [
       "                  naive_datetime            local_datetime  \\\n",
       "filter_start 2018-01-29 12:00:00 2018-01-29 12:00:00+01:00   \n",
       "filter_end   2018-02-01 00:00:00 2018-02-01 00:00:00+01:00   \n",
       "\n",
       "                          utc_datetime  \n",
       "filter_start 2018-01-29 11:00:00+00:00  \n",
       "filter_end   2018-01-31 23:00:00+00:00  "
      ]
     },
     "execution_count": 16,
     "metadata": {},
     "output_type": "execute_result"
    }
   ],
   "source": [
    "# show the dfeng created by reporter from engineer's data\n",
    "report.dfeng.head(2)"
   ]
  },
  {
   "cell_type": "code",
   "execution_count": 15,
   "metadata": {
    "collapsed": true
   },
   "outputs": [
    {
     "data": {
      "text/html": [
       "<div>\n",
       "<style scoped>\n",
       "    .dataframe tbody tr th:only-of-type {\n",
       "        vertical-align: middle;\n",
       "    }\n",
       "\n",
       "    .dataframe tbody tr th {\n",
       "        vertical-align: top;\n",
       "    }\n",
       "\n",
       "    .dataframe thead th {\n",
       "        text-align: right;\n",
       "    }\n",
       "</style>\n",
       "<table border=\"1\" class=\"dataframe\">\n",
       "  <thead>\n",
       "    <tr style=\"text-align: right;\">\n",
       "      <th></th>\n",
       "      <th>title</th>\n",
       "      <th>length</th>\n",
       "      <th>album</th>\n",
       "      <th>artist</th>\n",
       "      <th>start_time_utc</th>\n",
       "    </tr>\n",
       "  </thead>\n",
       "  <tbody>\n",
       "    <tr>\n",
       "      <th>470</th>\n",
       "      <td>Eye Spy</td>\n",
       "      <td>17</td>\n",
       "      <td>Vol. 8: Spy Themes Remixed</td>\n",
       "      <td>Chuck Cassey, Jules Bromley</td>\n",
       "      <td>2018-01-25 17:01:05+00:00</td>\n",
       "    </tr>\n",
       "    <tr>\n",
       "      <th>436</th>\n",
       "      <td>I Like You (instrumental)</td>\n",
       "      <td>14</td>\n",
       "      <td>Offbeat, Cute &amp; Quirky - Instrumentals</td>\n",
       "      <td>Phil Buckle</td>\n",
       "      <td>2018-01-27 00:41:17+00:00</td>\n",
       "    </tr>\n",
       "    <tr>\n",
       "      <th>426</th>\n",
       "      <td>Those Three Words</td>\n",
       "      <td>13</td>\n",
       "      <td>Abstract Future - Let You In</td>\n",
       "      <td>Andrew Haas, Ian Franzino, Laura Lane</td>\n",
       "      <td>2018-01-27 08:12:07+00:00</td>\n",
       "    </tr>\n",
       "    <tr>\n",
       "      <th>392</th>\n",
       "      <td>Dangerous Search</td>\n",
       "      <td>8</td>\n",
       "      <td>DramaLand</td>\n",
       "      <td>Alec Williams , Andy Asfendis</td>\n",
       "      <td>2018-01-28 12:17:42+00:00</td>\n",
       "    </tr>\n",
       "    <tr>\n",
       "      <th>333</th>\n",
       "      <td>Never Get Enough</td>\n",
       "      <td>19</td>\n",
       "      <td>Stacks of Soul Wax</td>\n",
       "      <td>Marc Ferrari, Michael McGregor</td>\n",
       "      <td>2018-01-31 17:09:07+00:00</td>\n",
       "    </tr>\n",
       "    <tr>\n",
       "      <th>303</th>\n",
       "      <td>Rainbow Odyssey</td>\n",
       "      <td>7</td>\n",
       "      <td>Electro Spectrum</td>\n",
       "      <td>Josselin Bordat, Le Fat Club</td>\n",
       "      <td>2018-02-01 14:34:11+00:00</td>\n",
       "    </tr>\n",
       "    <tr>\n",
       "      <th>286</th>\n",
       "      <td>Walk The Walk</td>\n",
       "      <td>4</td>\n",
       "      <td>ST172 From The Archives Vol. 9 - Retro Electronic</td>\n",
       "      <td>Taso Kotsos</td>\n",
       "      <td>2018-02-02 05:21:20+00:00</td>\n",
       "    </tr>\n",
       "    <tr>\n",
       "      <th>241</th>\n",
       "      <td>Gatsby's Groove</td>\n",
       "      <td>10</td>\n",
       "      <td>Sunny Side Up</td>\n",
       "      <td>Andy Blythe, Marten Joustra</td>\n",
       "      <td>2018-02-04 10:24:09+00:00</td>\n",
       "    </tr>\n",
       "    <tr>\n",
       "      <th>18</th>\n",
       "      <td>Gatsby's Groove</td>\n",
       "      <td>8</td>\n",
       "      <td>Sunny Side Up</td>\n",
       "      <td>Andy Blythe, Marten Joustra</td>\n",
       "      <td>2018-02-15 15:54:17+00:00</td>\n",
       "    </tr>\n",
       "    <tr>\n",
       "      <th>7</th>\n",
       "      <td>One Way</td>\n",
       "      <td>4</td>\n",
       "      <td>Rap &amp; Hip Hop Vol. 1</td>\n",
       "      <td>Nadin Polanco, Robert Ayala</td>\n",
       "      <td>2018-02-16 00:11:40+00:00</td>\n",
       "    </tr>\n",
       "  </tbody>\n",
       "</table>\n",
       "</div>"
      ],
      "text/plain": [
       "                         title length  \\\n",
       "470                    Eye Spy     17   \n",
       "436  I Like You (instrumental)     14   \n",
       "426          Those Three Words     13   \n",
       "392           Dangerous Search      8   \n",
       "333           Never Get Enough     19   \n",
       "303            Rainbow Odyssey      7   \n",
       "286              Walk The Walk      4   \n",
       "241            Gatsby's Groove     10   \n",
       "18             Gatsby's Groove      8   \n",
       "7                      One Way      4   \n",
       "\n",
       "                                                 album  \\\n",
       "470                         Vol. 8: Spy Themes Remixed   \n",
       "436             Offbeat, Cute & Quirky - Instrumentals   \n",
       "426                       Abstract Future - Let You In   \n",
       "392                                          DramaLand   \n",
       "333                                 Stacks of Soul Wax   \n",
       "303                                   Electro Spectrum   \n",
       "286  ST172 From The Archives Vol. 9 - Retro Electronic   \n",
       "241                                      Sunny Side Up   \n",
       "18                                       Sunny Side Up   \n",
       "7                                 Rap & Hip Hop Vol. 1   \n",
       "\n",
       "                                    artist            start_time_utc  \n",
       "470            Chuck Cassey, Jules Bromley 2018-01-25 17:01:05+00:00  \n",
       "436                            Phil Buckle 2018-01-27 00:41:17+00:00  \n",
       "426  Andrew Haas, Ian Franzino, Laura Lane 2018-01-27 08:12:07+00:00  \n",
       "392          Alec Williams , Andy Asfendis 2018-01-28 12:17:42+00:00  \n",
       "333         Marc Ferrari, Michael McGregor 2018-01-31 17:09:07+00:00  \n",
       "303           Josselin Bordat, Le Fat Club 2018-02-01 14:34:11+00:00  \n",
       "286                            Taso Kotsos 2018-02-02 05:21:20+00:00  \n",
       "241            Andy Blythe, Marten Joustra 2018-02-04 10:24:09+00:00  \n",
       "18             Andy Blythe, Marten Joustra 2018-02-15 15:54:17+00:00  \n",
       "7              Nadin Polanco, Robert Ayala 2018-02-16 00:11:40+00:00  "
      ]
     },
     "execution_count": 15,
     "metadata": {},
     "output_type": "execute_result"
    }
   ],
   "source": [
    "# show the df created by reporter from file\n",
    "report.df.sample(10).sort_values(by=['start_time_utc'])"
   ]
  },
  {
   "cell_type": "code",
   "execution_count": null,
   "metadata": {
    "scrolled": true
   },
   "outputs": [],
   "source": [
    "# Set df's index to be time series\n",
    "df = report.df.set_index('start_time_utc')\n",
    "\n",
    "# show sample of time indexed and sorted df\n",
    "df.sample(10).sort_values(by=['start_time_utc'])"
   ]
  },
  {
   "cell_type": "code",
   "execution_count": null,
   "metadata": {},
   "outputs": [],
   "source": [
    "df.loc[df. index['#'], 'NAME']"
   ]
  },
  {
   "cell_type": "code",
   "execution_count": 20,
   "metadata": {},
   "outputs": [
    {
     "ename": "KeyError",
     "evalue": "'filter_start'",
     "output_type": "error",
     "traceback": [
      "\u001b[0;31m---------------------------------------------------------------------------\u001b[0m",
      "\u001b[0;31mKeyError\u001b[0m                                  Traceback (most recent call last)",
      "\u001b[0;32m<ipython-input-20-20be4b64608a>\u001b[0m in \u001b[0;36m<module>\u001b[0;34m()\u001b[0m\n\u001b[1;32m      1\u001b[0m \u001b[0;31m# Make a mask boolean mask between dates\u001b[0m\u001b[0;34m\u001b[0m\u001b[0;34m\u001b[0m\u001b[0m\n\u001b[0;32m----> 2\u001b[0;31m \u001b[0mmask\u001b[0m \u001b[0;34m=\u001b[0m \u001b[0;34m(\u001b[0m\u001b[0mreport\u001b[0m\u001b[0;34m.\u001b[0m\u001b[0mdf\u001b[0m\u001b[0;34m[\u001b[0m\u001b[0;34m'start_time_utc'\u001b[0m\u001b[0;34m]\u001b[0m \u001b[0;34m>=\u001b[0m \u001b[0mreport\u001b[0m\u001b[0;34m.\u001b[0m\u001b[0mdfeng\u001b[0m\u001b[0;34m[\u001b[0m\u001b[0;34m'filter_start'\u001b[0m\u001b[0;34m]\u001b[0m\u001b[0;34m[\u001b[0m\u001b[0;34m'utc_datetime'\u001b[0m\u001b[0;34m]\u001b[0m\u001b[0;34m)\u001b[0m \u001b[0;34m&\u001b[0m \u001b[0;34m(\u001b[0m\u001b[0mreport\u001b[0m\u001b[0;34m.\u001b[0m\u001b[0mdf\u001b[0m\u001b[0;34m[\u001b[0m\u001b[0;34m'start_time_utc'\u001b[0m\u001b[0;34m]\u001b[0m \u001b[0;34m<=\u001b[0m \u001b[0mreport\u001b[0m\u001b[0;34m.\u001b[0m\u001b[0mdfeng\u001b[0m\u001b[0;34m[\u001b[0m\u001b[0;34m'filter_end'\u001b[0m\u001b[0;34m]\u001b[0m\u001b[0;34m[\u001b[0m\u001b[0;34m'utc_datetime'\u001b[0m\u001b[0;34m]\u001b[0m\u001b[0;34m)\u001b[0m\u001b[0;34m\u001b[0m\u001b[0m\n\u001b[0m\u001b[1;32m      3\u001b[0m \u001b[0mmatches_between_dates\u001b[0m \u001b[0;34m=\u001b[0m \u001b[0mreport\u001b[0m\u001b[0;34m.\u001b[0m\u001b[0mdf\u001b[0m\u001b[0;34m.\u001b[0m\u001b[0mloc\u001b[0m\u001b[0;34m[\u001b[0m\u001b[0mmask\u001b[0m\u001b[0;34m]\u001b[0m\u001b[0;34m\u001b[0m\u001b[0m\n",
      "\u001b[0;32m/usr/local/google/home/varelabelloso/Apps/tamb/bmat-tv-av/env/lib/python2.7/site-packages/pandas/core/frame.pyc\u001b[0m in \u001b[0;36m__getitem__\u001b[0;34m(self, key)\u001b[0m\n\u001b[1;32m   2925\u001b[0m             \u001b[0;32mif\u001b[0m \u001b[0mself\u001b[0m\u001b[0;34m.\u001b[0m\u001b[0mcolumns\u001b[0m\u001b[0;34m.\u001b[0m\u001b[0mnlevels\u001b[0m \u001b[0;34m>\u001b[0m \u001b[0;36m1\u001b[0m\u001b[0;34m:\u001b[0m\u001b[0;34m\u001b[0m\u001b[0m\n\u001b[1;32m   2926\u001b[0m                 \u001b[0;32mreturn\u001b[0m \u001b[0mself\u001b[0m\u001b[0;34m.\u001b[0m\u001b[0m_getitem_multilevel\u001b[0m\u001b[0;34m(\u001b[0m\u001b[0mkey\u001b[0m\u001b[0;34m)\u001b[0m\u001b[0;34m\u001b[0m\u001b[0m\n\u001b[0;32m-> 2927\u001b[0;31m             \u001b[0mindexer\u001b[0m \u001b[0;34m=\u001b[0m \u001b[0mself\u001b[0m\u001b[0;34m.\u001b[0m\u001b[0mcolumns\u001b[0m\u001b[0;34m.\u001b[0m\u001b[0mget_loc\u001b[0m\u001b[0;34m(\u001b[0m\u001b[0mkey\u001b[0m\u001b[0;34m)\u001b[0m\u001b[0;34m\u001b[0m\u001b[0m\n\u001b[0m\u001b[1;32m   2928\u001b[0m             \u001b[0;32mif\u001b[0m \u001b[0mis_integer\u001b[0m\u001b[0;34m(\u001b[0m\u001b[0mindexer\u001b[0m\u001b[0;34m)\u001b[0m\u001b[0;34m:\u001b[0m\u001b[0;34m\u001b[0m\u001b[0m\n\u001b[1;32m   2929\u001b[0m                 \u001b[0mindexer\u001b[0m \u001b[0;34m=\u001b[0m \u001b[0;34m[\u001b[0m\u001b[0mindexer\u001b[0m\u001b[0;34m]\u001b[0m\u001b[0;34m\u001b[0m\u001b[0m\n",
      "\u001b[0;32m/usr/local/google/home/varelabelloso/Apps/tamb/bmat-tv-av/env/lib/python2.7/site-packages/pandas/core/indexes/base.pyc\u001b[0m in \u001b[0;36mget_loc\u001b[0;34m(self, key, method, tolerance)\u001b[0m\n\u001b[1;32m   2657\u001b[0m                 \u001b[0;32mreturn\u001b[0m \u001b[0mself\u001b[0m\u001b[0;34m.\u001b[0m\u001b[0m_engine\u001b[0m\u001b[0;34m.\u001b[0m\u001b[0mget_loc\u001b[0m\u001b[0;34m(\u001b[0m\u001b[0mkey\u001b[0m\u001b[0;34m)\u001b[0m\u001b[0;34m\u001b[0m\u001b[0m\n\u001b[1;32m   2658\u001b[0m             \u001b[0;32mexcept\u001b[0m \u001b[0mKeyError\u001b[0m\u001b[0;34m:\u001b[0m\u001b[0;34m\u001b[0m\u001b[0m\n\u001b[0;32m-> 2659\u001b[0;31m                 \u001b[0;32mreturn\u001b[0m \u001b[0mself\u001b[0m\u001b[0;34m.\u001b[0m\u001b[0m_engine\u001b[0m\u001b[0;34m.\u001b[0m\u001b[0mget_loc\u001b[0m\u001b[0;34m(\u001b[0m\u001b[0mself\u001b[0m\u001b[0;34m.\u001b[0m\u001b[0m_maybe_cast_indexer\u001b[0m\u001b[0;34m(\u001b[0m\u001b[0mkey\u001b[0m\u001b[0;34m)\u001b[0m\u001b[0;34m)\u001b[0m\u001b[0;34m\u001b[0m\u001b[0m\n\u001b[0m\u001b[1;32m   2660\u001b[0m         \u001b[0mindexer\u001b[0m \u001b[0;34m=\u001b[0m \u001b[0mself\u001b[0m\u001b[0;34m.\u001b[0m\u001b[0mget_indexer\u001b[0m\u001b[0;34m(\u001b[0m\u001b[0;34m[\u001b[0m\u001b[0mkey\u001b[0m\u001b[0;34m]\u001b[0m\u001b[0;34m,\u001b[0m \u001b[0mmethod\u001b[0m\u001b[0;34m=\u001b[0m\u001b[0mmethod\u001b[0m\u001b[0;34m,\u001b[0m \u001b[0mtolerance\u001b[0m\u001b[0;34m=\u001b[0m\u001b[0mtolerance\u001b[0m\u001b[0;34m)\u001b[0m\u001b[0;34m\u001b[0m\u001b[0m\n\u001b[1;32m   2661\u001b[0m         \u001b[0;32mif\u001b[0m \u001b[0mindexer\u001b[0m\u001b[0;34m.\u001b[0m\u001b[0mndim\u001b[0m \u001b[0;34m>\u001b[0m \u001b[0;36m1\u001b[0m \u001b[0;32mor\u001b[0m \u001b[0mindexer\u001b[0m\u001b[0;34m.\u001b[0m\u001b[0msize\u001b[0m \u001b[0;34m>\u001b[0m \u001b[0;36m1\u001b[0m\u001b[0;34m:\u001b[0m\u001b[0;34m\u001b[0m\u001b[0m\n",
      "\u001b[0;32mpandas/_libs/index.pyx\u001b[0m in \u001b[0;36mpandas._libs.index.IndexEngine.get_loc\u001b[0;34m()\u001b[0m\n",
      "\u001b[0;32mpandas/_libs/index.pyx\u001b[0m in \u001b[0;36mpandas._libs.index.IndexEngine.get_loc\u001b[0;34m()\u001b[0m\n",
      "\u001b[0;32mpandas/_libs/hashtable_class_helper.pxi\u001b[0m in \u001b[0;36mpandas._libs.hashtable.PyObjectHashTable.get_item\u001b[0;34m()\u001b[0m\n",
      "\u001b[0;32mpandas/_libs/hashtable_class_helper.pxi\u001b[0m in \u001b[0;36mpandas._libs.hashtable.PyObjectHashTable.get_item\u001b[0;34m()\u001b[0m\n",
      "\u001b[0;31mKeyError\u001b[0m: 'filter_start'"
     ]
    }
   ],
   "source": [
    "# Make a mask boolean mask between dates\n",
    "mask = (report.df['start_time_utc'] >= report.dfeng.loc['filter_start']['utc_datetime']]) & (report.df['start_time_utc'] <= report.dfeng['filter_end']['utc_datetime'])\n",
    "matches_between_dates = report.df.loc[mask]"
   ]
  },
  {
   "cell_type": "code",
   "execution_count": null,
   "metadata": {},
   "outputs": [],
   "source": [
    "# From the engineers I get this\n",
    "kwargs = {}\n",
    "kwargs['filename']='matches-la_sexta.json'\n",
    "kwargs['start_date']='2018-02-09'\n",
    "kwargs['start_time']='22:33'\n",
    "kwargs['end_date']='2018-02-14'\n",
    "kwargs['end_time']='00:01'\n",
    "kwargs['time_zone']='Europe/Madrid'\n",
    "print(kwargs.items())\n"
   ]
  },
  {
   "cell_type": "code",
   "execution_count": null,
   "metadata": {},
   "outputs": [],
   "source": [
    "start_time_naive = dateutil.parser.parse(kwargs['start_date']+'T'+kwargs['start_time'])\n",
    "end_time_naive = dateutil.parser.parse(kwargs['end_date']+'T'+kwargs['end_time'])\n",
    "\n",
    "dfeng = pd.DataFrame({'naive_datetime':[start_time_naive,end_time_naive]}, index=['start','end'])\n",
    "dfeng['local_datetime'] = pd.DatetimeIndex(dfeng['naive_datetime']).tz_localize(tz =kwargs['time_zone'])\n",
    "dfeng['utc_datetime'] = pd.DatetimeIndex(dfeng['local_datetime']).tz_convert(tz ='UTC')\n",
    "\n",
    "dfeng"
   ]
  },
  {
   "cell_type": "code",
   "execution_count": null,
   "metadata": {},
   "outputs": [],
   "source": [
    "\n",
    "# Make engineer's time format same as filename datetime format (localize and convert to UTC)\n",
    "user_start_time='{}T{}.000000'.format(kwargs['start_date'],kwargs['start_time']+':00')\n",
    "# local & unaware\n",
    "start_time_local = datetime.datetime.strptime(user_start_time,'%Y-%m-%dT%H:%M:%f.000000')\n",
    "# localize by adding timezone\n",
    "print(user_start_time)\n",
    "print(start_time_local)"
   ]
  },
  {
   "cell_type": "code",
   "execution_count": null,
   "metadata": {},
   "outputs": [],
   "source": [
    "dfeng"
   ]
  },
  {
   "cell_type": "code",
   "execution_count": null,
   "metadata": {},
   "outputs": [],
   "source": [
    "dfeng = pd.DataFrame(columns=['naive_datetime','local_datetime','utc_datetime'])\n",
    "\n",
    "start_time_naive = dateutil.parser.parse(kwargs['start_date']+'T'+kwargs['start_time'])\n",
    "end_time_naive = dateutil.parser.parse(kwargs['end_date']+'T'+kwargs['end_time'])\n",
    "\n",
    "dfeng = dfeng.append({'naive_datetime':start_time_naive},ignore_index=True)\n",
    "# dfeng = dfeng.set_index('naive_datetime')\n",
    "dfeng"
   ]
  },
  {
   "cell_type": "markdown",
   "metadata": {},
   "source": [
    "<hr>"
   ]
  },
  {
   "cell_type": "markdown",
   "metadata": {},
   "source": [
    "The time value a:\n",
    "- returned by:\n",
    "    - `gmtime()`\n",
    "    - `localtime()`\n",
    "    - `strptime()`\n",
    "- accepted by:\n",
    "    - `asctime()`\n",
    "    - `mktime()`\n",
    "    - `strftime()`\n",
    "    \n",
    "is a sequence of 9 integers.\n",
    "\n",
    "Return values of:\n",
    "\n",
    "    - `gmtime()`\n",
    "    - `localtime()`\n",
    "    - `strptime()`\n",
    "    \n",
    "also offer attribute names for individual fields.\n",
    "\n",
    "# Goals:\n",
    "- Localize & convert to UTC engineers time.\n",
    "```python\n",
    "start_date='2018-01-29', \n",
    "start_time='12:00', \n",
    "end_date='2018-02-01',\n",
    "end_time='00:00:00',\n",
    "tz_offset='Europe/Madrid'\n",
    "\n",
    "# Unaware\n",
    "user_start_time='%sT%s00.000000'.format(start_date,start_time)\n",
    "```\n",
    "\n",
    "\n",
    "- And I want start_time_utc in epoch too\n",
    "\n",
    "<hr>\n",
    "\n",
    "## Engineer input"
   ]
  }
 ],
 "metadata": {
  "kernelspec": {
   "display_name": "Django Shell-Plus",
   "language": "python",
   "name": "django_extensions"
  },
  "language_info": {
   "codemirror_mode": {
    "name": "ipython",
    "version": 2
   },
   "file_extension": ".py",
   "mimetype": "text/x-python",
   "name": "python",
   "nbconvert_exporter": "python",
   "pygments_lexer": "ipython2",
   "version": "2.7.17"
  }
 },
 "nbformat": 4,
 "nbformat_minor": 2
}
